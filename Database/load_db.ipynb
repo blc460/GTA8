{
 "cells": [
  {
   "cell_type": "code",
   "execution_count": 63,
   "metadata": {},
   "outputs": [],
   "source": [
    "import psycopg2\n",
    "from psycopg2.extensions import AsIs\n",
    "import pandas as pd"
   ]
  },
  {
   "cell_type": "code",
   "execution_count": 64,
   "metadata": {},
   "outputs": [
    {
     "data": {
      "text/plain": [
       "{'dbname': 'gta',\n",
       " 'port': 5432,\n",
       " 'user': 'gta_p8',\n",
       " 'password': 'r7sdkfdq',\n",
       " 'host': 'ikgpgis.ethz.ch'}"
      ]
     },
     "metadata": {},
     "output_type": "display_data"
    }
   ],
   "source": [
    "%run -i ../sql_helpers.py\n",
    "display(db_credentials)"
   ]
  },
  {
   "cell_type": "code",
   "execution_count": null,
   "metadata": {},
   "outputs": [],
   "source": [
    "def read_sql(sql, dbname, port, user, password, host ):\n",
    "    \"\"\"execute sql query on database and return results\"\"\"\n",
    "\n",
    "    conn = psycopg2.connect(dbname=dbname, port=port, user=user, password=password, host=host)\n",
    "    cur = conn.cursor()\n",
    "    \n",
    "    cur.execute(sql)\n",
    "    conn.commit()\n",
    "\n",
    "    #get results and clean up\n",
    "    results = cur.fetchall()\n",
    "    conn.close()\n",
    "    return results"
   ]
  },
  {
   "cell_type": "code",
   "execution_count": 65,
   "metadata": {},
   "outputs": [
    {
     "data": {
      "text/plain": [
       "<bound method NDFrame.head of            @lat      @lon                            name    addr:street  \\\n",
       "0     47.336138  8.532241                     Il Grappolo  Widmerstrasse   \n",
       "1     47.344132  8.532699                        yan-ruyi            NaN   \n",
       "2     47.344184  8.533103                      Renggergut            NaN   \n",
       "3     47.343559  8.536856                   Ziegel oh Lac     Seestrasse   \n",
       "4     47.382807  8.492941             UBS Restaurant Flur    Flurstrasse   \n",
       "...         ...       ...                             ...            ...   \n",
       "1110  47.366919  8.497322  Stadtspital Triemli Restaurant            NaN   \n",
       "1111  47.362376  8.510092        Swisscom Restaurant Binz       Binzring   \n",
       "1112  47.361729  8.510473    Swiss Life Restaurant Binz49  Grubenstrasse   \n",
       "1113  47.363056  8.516535                  Haferl & Seidl            NaN   \n",
       "1114  47.409418  8.550419                             NaN            NaN   \n",
       "\n",
       "     addr:housenumber  addr:postcode addr:city        cuisine  \\\n",
       "0                  64         8038.0    Zürich  italian;pizza   \n",
       "1                 NaN            NaN       NaN        chinese   \n",
       "2                 NaN            NaN       NaN            NaN   \n",
       "3                 407         8038.0    Zürich            NaN   \n",
       "4                  70         8048.0    Zürich            NaN   \n",
       "...               ...            ...       ...            ...   \n",
       "1110              NaN            NaN       NaN            NaN   \n",
       "1111               17         8045.0    Zürich       regional   \n",
       "1112               49         8022.0    Zürich            NaN   \n",
       "1113              NaN            NaN       NaN            NaN   \n",
       "1114              NaN            NaN       NaN       barbeque   \n",
       "\n",
       "                                                website  \n",
       "0                 https://www.restaurant-ilgrappolo.ch/  \n",
       "1                            http://ruyi-restaurant.ch/  \n",
       "2                                                   NaN  \n",
       "3                            http://www.ziegelohlac.ch/  \n",
       "4                                                   NaN  \n",
       "...                                                 ...  \n",
       "1110                                                NaN  \n",
       "1111             http://swisscom-binz.sv-restaurant.ch/  \n",
       "1112  https://zfv.ch/de/microsites/swiss-life-restau...  \n",
       "1113                                                NaN  \n",
       "1114         https://rennbahn-oerlikon.ch/restauration/  \n",
       "\n",
       "[1115 rows x 9 columns]>"
      ]
     },
     "execution_count": 65,
     "metadata": {},
     "output_type": "execute_result"
    }
   ],
   "source": [
    "kirchen_zuerich = pd.read_csv(\"csv/kirchen-zurich.csv\", encoding = \"utf-8\", sep=\"\t\")\n",
    "restaurant_zurich = pd.read_csv(\"csv/restaurant-zurich.csv\", encoding = \"utf-8\", sep=\"\t\")\n",
    "restaurant_zurich.head"
   ]
  },
  {
   "cell_type": "code",
   "execution_count": 66,
   "metadata": {},
   "outputs": [],
   "source": [
    "for idx, row in kirchen_zuerich.iterrows():\n",
    "    #prepare input values\n",
    "    church_name = row['name'] #<class 'str'>\n",
    "\n",
    "    address_street = row['addr:street'] #<class 'str'>\n",
    "    if(type(address_street) == float):\n",
    "        address_street = 'keine Adresse vorhanden!'\n",
    "\n",
    "    address_number = row['addr:housenumber'] #<class 'str'>\n",
    "    if(type(address_number) == float):\n",
    "        address_number = '-'\n",
    "\n",
    "    city_postcode = row['addr:postcode'] #<class 'str'>\n",
    "    if pd.isna(city_postcode) == True:\n",
    "        city_postcode = '-'\n",
    "    else:\n",
    "        city_postcode = str(city_postcode)\n",
    "\n",
    "    city_name = row['addr:city'] #<class 'str'>\n",
    "    if(type(city_name) == float):\n",
    "        city_name = '-'\n",
    "\n",
    "    lon = row[\"@lon\"] #<class 'float'>\n",
    "\n",
    "    lat = row[\"@lat\"] #<class 'float'>"
   ]
  },
  {
   "cell_type": "code",
   "execution_count": 67,
   "metadata": {},
   "outputs": [],
   "source": [
    "for idx, row in restaurant_zurich.iterrows():\n",
    "    #prepare input values\n",
    "    restaurant_name = row['name'] #<class 'str'>\n",
    "\n",
    "    restaurant_website = row['website'] #<class 'str'>\n",
    "    if(type(restaurant_website) == float):\n",
    "        restaurant_website = 'keine Website vorhanden!'\n",
    "\n",
    "    restaurant_type = row['cuisine']\n",
    "    if(type(restaurant_type) == float):\n",
    "        restaurant_type = 'keine Kategorie!'\n",
    "\n",
    "    address_street = row['addr:street'] #<class 'str'>\n",
    "    if(type(address_street) == float):\n",
    "        address_street = 'keine Adresse vorhanden!'\n",
    "\n",
    "    address_number = row['addr:housenumber'] #<class 'str'>\n",
    "    if(type(address_number) == float):\n",
    "        address_number = '-'\n",
    "\n",
    "    city_postcode = row['addr:postcode'] #<class 'str'>\n",
    "    if pd.isna(city_postcode) == True:\n",
    "        city_postcode = '-'\n",
    "    else:\n",
    "        city_postcode = str(city_postcode)\n",
    "\n",
    "    city_name = row['addr:city'] #<class 'str'>\n",
    "    if(type(city_name) == float):\n",
    "        city_name = '-'   \n",
    "\n",
    "    lon = row[\"@lon\"] #<class 'float'>\n",
    "\n",
    "    lat = row[\"@lat\"] #<class 'float'>\n",
    "    "
   ]
  },
  {
   "cell_type": "markdown",
   "metadata": {},
   "source": []
  }
 ],
 "metadata": {
  "kernelspec": {
   "display_name": "gta23",
   "language": "python",
   "name": "python3"
  },
  "language_info": {
   "codemirror_mode": {
    "name": "ipython",
    "version": 3
   },
   "file_extension": ".py",
   "mimetype": "text/x-python",
   "name": "python",
   "nbconvert_exporter": "python",
   "pygments_lexer": "ipython3",
   "version": "3.9.7"
  }
 },
 "nbformat": 4,
 "nbformat_minor": 2
}
