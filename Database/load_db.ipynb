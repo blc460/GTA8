{
 "cells": [
  {
   "cell_type": "code",
   "execution_count": 754,
   "metadata": {},
   "outputs": [],
   "source": [
    "import psycopg2\n",
    "from psycopg2.extensions import AsIs\n",
    "import psycopg2\n",
    "import pandas as pd\n",
    "import numpy as np"
   ]
  },
  {
   "cell_type": "code",
   "execution_count": 755,
   "metadata": {},
   "outputs": [
    {
     "data": {
      "text/plain": [
       "{'dbname': 'gta',\n",
       " 'port': 5432,\n",
       " 'user': 'gta_p8',\n",
       " 'password': 'r7sdkfdq',\n",
       " 'host': 'ikgpgis.ethz.ch'}"
      ]
     },
     "metadata": {},
     "output_type": "display_data"
    }
   ],
   "source": [
    "%run -i ../sql_helpers.py\n",
    "display(db_credentials)"
   ]
  },
  {
   "cell_type": "code",
   "execution_count": 756,
   "metadata": {},
   "outputs": [],
   "source": [
    "kirchen_zuerich = pd.read_csv(\"csv/kirchen-zurich.csv\", encoding = \"utf-8\", sep=\"\t\")\n",
    "restaurant_zurich = pd.read_csv(\"csv/restaurant-zurich.csv\", encoding = \"utf-8\", sep=\"\t\")"
   ]
  },
  {
   "cell_type": "code",
   "execution_count": 757,
   "metadata": {},
   "outputs": [],
   "source": [
    "conn = psycopg2.connect(**db_credentials)\n",
    "cur = conn.cursor()"
   ]
  },
  {
   "cell_type": "code",
   "execution_count": 758,
   "metadata": {},
   "outputs": [
    {
     "data": {
      "text/plain": [
       "b\"INSERT INTO church (address_id, church_name) VALUES (100, 'kirche')\""
      ]
     },
     "execution_count": 758,
     "metadata": {},
     "output_type": "execute_result"
    }
   ],
   "source": [
    "sql_string_with_placeholders = \"INSERT INTO church (address_id, church_name) VALUES (%s, %s)\"\n",
    "cur.mogrify(sql_string_with_placeholders,(100, \"kirche\"))"
   ]
  },
  {
   "cell_type": "code",
   "execution_count": 759,
   "metadata": {},
   "outputs": [],
   "source": [
    "conn.commit()\n",
    "conn.close()"
   ]
  },
  {
   "cell_type": "markdown",
   "metadata": {},
   "source": [
    "Kirchen"
   ]
  },
  {
   "cell_type": "code",
   "execution_count": 760,
   "metadata": {},
   "outputs": [],
   "source": [
    "conn = psycopg2.connect(**db_credentials)\n",
    "cur = conn.cursor()"
   ]
  },
  {
   "cell_type": "code",
   "execution_count": 761,
   "metadata": {},
   "outputs": [],
   "source": [
    "city_id_array = np.empty(0)\n",
    "\n",
    "for idx, row in kirchen_zuerich.iterrows():\n",
    "    #prepare input values\n",
    "    church_name = row['name'] #<class 'str'> x\n",
    "\n",
    "    address_street = row['addr:street'] #<class 'str'>\n",
    "    if(type(address_street) == float):\n",
    "        address_street = 'keine Adresse vorhanden!'\n",
    "\n",
    "    address_number = row['addr:housenumber'] #<class 'str'>\n",
    "    if(type(address_number) == float):\n",
    "        address_number = '-'\n",
    "\n",
    "    city_postcode = row['addr:postcode'] #<class 'str'>\n",
    "    if pd.isna(city_postcode) == True:\n",
    "        city_postcode = '-'\n",
    "    else:\n",
    "        city_postcode = int(city_postcode)\n",
    "        city_postcode = str(city_postcode)\n",
    "\n",
    "    city_name = row['addr:city'] #<class 'str'>\n",
    "    if(type(city_name) == float):\n",
    "        city_name = '-'\n",
    "\n",
    "    lon = row[\"@lon\"] #<class 'float'>\n",
    "\n",
    "    lat = row[\"@lat\"] #<class 'float'>\n",
    "\n",
    "    #EXECUTE sql_commands:\n",
    "\n",
    "    #city_table\n",
    "    sql_fill_city = \"INSERT INTO gta_p8.city (city_postcode, city_name) SELECT '\"+city_postcode+\"', '\"+city_name+\"' WHERE NOT EXISTS (select * from gta_p8.city where city_postcode='\"+city_postcode+\"');\"\n",
    "\n",
    "    cur.execute(sql_fill_city, (city_postcode, city_name))\n",
    "\n",
    "    #address_table_preparation\n",
    "    cur.execute(\"SELECT city_id FROM gta_p8.city WHERE city_postcode='\"+city_postcode+\"';\")\n",
    "    result = cur.fetchone()\n",
    "    city_id_array = np.append(city_id_array, result[0])\n",
    "\n",
    "\n",
    "\n"
   ]
  },
  {
   "cell_type": "code",
   "execution_count": 762,
   "metadata": {},
   "outputs": [],
   "source": [
    "conn.commit()\n",
    "conn.close()"
   ]
  },
  {
   "cell_type": "code",
   "execution_count": 763,
   "metadata": {},
   "outputs": [],
   "source": [
    "conn = psycopg2.connect(**db_credentials)\n",
    "cur = conn.cursor()"
   ]
  },
  {
   "cell_type": "code",
   "execution_count": 764,
   "metadata": {},
   "outputs": [
    {
     "name": "stdout",
     "output_type": "stream",
     "text": [
      "[ 940.  941.  941.  942.  942.  943.  941.  941.  944.  941.  941.  941.\n",
      "  945.  941.  946.  947.  948.  949.  950.  951.  952.  953.  954.  955.\n",
      "  956.  957.  958.  959.  960.  961.  962.  963.  964.  965.  966.  967.\n",
      "  968.  969.  941.  970.  971.  972.  973.  974.  975.  976.  977.  978.\n",
      "  979.  980.  981.  982.  983.  984.  985.  941.  941.  986.  941.  987.\n",
      "  988.  989.  990.  991.  992.  941.  993.  994.  995.  941.  996.  997.\n",
      "  998.  999. 1000. 1001. 1002. 1003. 1004. 1005. 1006. 1007. 1008. 1009.\n",
      " 1010. 1011. 1012. 1013. 1014. 1015. 1016. 1017.  941. 1018. 1019. 1020.\n",
      " 1021. 1022. 1023.  941. 1024. 1025. 1026. 1027. 1028. 1029.  941. 1030.\n",
      " 1031. 1032.  941. 1033. 1034. 1035.  941.  941.  941. 1036.  941.  941.]\n"
     ]
    }
   ],
   "source": [
    "address_id_array = np.empty(0)\n",
    "\n",
    "for idx, row in kirchen_zuerich.iterrows():\n",
    "    #prepare input values\n",
    "    church_name = row['name'] #<class 'str'> x\n",
    "\n",
    "    address_street = row['addr:street'] #<class 'str'>\n",
    "    if(type(address_street) == float):\n",
    "        address_street = 'keine Adresse vorhanden!'\n",
    "\n",
    "    address_number = row['addr:housenumber'] #<class 'str'>\n",
    "    if(type(address_number) == float):\n",
    "        address_number = '-'\n",
    "\n",
    "    city_postcode = row['addr:postcode'] #<class 'str'>\n",
    "    if pd.isna(city_postcode) == True:\n",
    "        city_postcode = '-'\n",
    "    else:\n",
    "        city_postcode = int(city_postcode)\n",
    "        city_postcode = str(city_postcode)\n",
    "\n",
    "    city_name = row['addr:city'] #<class 'str'>\n",
    "    if(type(city_name) == float):\n",
    "        city_name = '-'\n",
    "\n",
    "    lon = row[\"@lon\"] #<class 'float'>\n",
    "\n",
    "    lat = row[\"@lat\"] #<class 'float'>\n",
    "\n",
    "    #EXECUTE sql_commands:\n",
    "\n",
    "    #address_table\n",
    "    city_id_fk = str(int(city_id_array[idx]))\n",
    "\n",
    "    sql_fill_address = \"INSERT INTO gta_p8.address (address_street, address_number, city_id) SELECT '\"+address_street+\"', '\"+address_number+\"', '\"+city_id_fk+\"' WHERE NOT EXISTS (select * from gta_p8.address where address_street='\"+address_street+\"' AND address_number='\"+address_number+\"');\"\n",
    "  \n",
    "    #cur.execute(sql_fill_address, (address_street, address_number, city_id_fk))\n",
    "\n",
    "    #kirchen_table_preparation\n",
    "    cur.execute(\"SELECT address_id FROM gta_p8.address WHERE address_street='\"+address_street+\"' AND address_number='\"+address_number+\"';\")\n",
    "    result = cur.fetchone()\n",
    "    address_id_array = np.append(address_id_array, result[0])\n",
    "\n",
    "print(address_id_array)"
   ]
  },
  {
   "cell_type": "code",
   "execution_count": 765,
   "metadata": {},
   "outputs": [],
   "source": [
    "conn.commit()\n",
    "conn.close()"
   ]
  },
  {
   "cell_type": "code",
   "execution_count": 766,
   "metadata": {},
   "outputs": [],
   "source": [
    "conn = psycopg2.connect(**db_credentials)\n",
    "cur = conn.cursor()"
   ]
  },
  {
   "cell_type": "code",
   "execution_count": 767,
   "metadata": {},
   "outputs": [],
   "source": [
    "for idx, row in kirchen_zuerich.iterrows():\n",
    "    #prepare input values\n",
    "    church_name = row['name'] #<class 'str'> x\n",
    "    if(type(church_name) == float): #nameless churches get skipped\n",
    "        continue\n",
    "\n",
    "    address_street = row['addr:street'] #<class 'str'>\n",
    "    if(type(address_street) == float):\n",
    "        address_street = 'keine Adresse vorhanden!'\n",
    "\n",
    "    address_number = row['addr:housenumber'] #<class 'str'>\n",
    "    if(type(address_number) == float):\n",
    "        address_number = '-'\n",
    "\n",
    "    city_postcode = row['addr:postcode'] #<class 'str'>\n",
    "    if pd.isna(city_postcode) == True:\n",
    "        city_postcode = '-'\n",
    "    else:\n",
    "        city_postcode = int(city_postcode)\n",
    "        city_postcode = str(city_postcode)\n",
    "\n",
    "    city_name = row['addr:city'] #<class 'str'>\n",
    "    if(type(city_name) == float):\n",
    "        city_name = '-'\n",
    "\n",
    "    lon = str(row[\"@lon\"]) #<class 'float'>\n",
    "\n",
    "    lat = str(row[\"@lat\"]) #<class 'float'>\n",
    "\n",
    "    #EXECUTE sql_commands:\n",
    "    address_id_fk = str(int(address_id_array[idx]))\n",
    "\n",
    "    sql_fill_church = \"INSERT INTO gta_p8.church (church_name, address_id) SELECT '\"+church_name+\"', '\"+address_id_fk+\"' WHERE NOT EXISTS (select * from gta_p8.church where church_name='\"+church_name+\"');\"\n",
    "\n",
    "    cur.execute(sql_fill_church, (church_name, address_id_fk))\n",
    "\n",
    "    geom_sql = \"UPDATE gta_p8.church SET geometry = ST_SetSRID(ST_MakePoint(\"+lon+\",\"+lat+\"),4326);\"\n",
    "\n",
    "    cur.execute(geom_sql)\n",
    "\n"
   ]
  },
  {
   "cell_type": "code",
   "execution_count": 768,
   "metadata": {},
   "outputs": [],
   "source": [
    "conn.commit()\n",
    "conn.close()"
   ]
  },
  {
   "cell_type": "markdown",
   "metadata": {},
   "source": [
    "## Restaurants"
   ]
  },
  {
   "cell_type": "code",
   "execution_count": 769,
   "metadata": {},
   "outputs": [],
   "source": [
    "for idx, row in restaurant_zurich.iterrows():\n",
    "    #prepare input values\n",
    "    restaurant_name = row['name'] #<class 'str'>\n",
    "\n",
    "    restaurant_website = row['website'] #<class 'str'>\n",
    "    if(type(restaurant_website) == float):\n",
    "        restaurant_website = 'keine Website vorhanden!'\n",
    "\n",
    "    restaurant_type = row['cuisine']\n",
    "    if(type(restaurant_type) == float):\n",
    "        restaurant_type = 'keine Kategorie!'\n",
    "\n",
    "    address_street = row['addr:street'] #<class 'str'>\n",
    "    if(type(address_street) == float):\n",
    "        address_street = 'keine Adresse vorhanden!'\n",
    "\n",
    "    address_number = row['addr:housenumber'] #<class 'str'>\n",
    "    if(type(address_number) == float):\n",
    "        address_number = '-'\n",
    "\n",
    "    city_postcode = row['addr:postcode'] #<class 'str'>\n",
    "    if pd.isna(city_postcode) == True:\n",
    "        city_postcode = '-'\n",
    "    else:\n",
    "        city_postcode = str(city_postcode)\n",
    "\n",
    "    city_name = row['addr:city'] #<class 'str'>\n",
    "    if(type(city_name) == float):\n",
    "        city_name = '-'   \n",
    "\n",
    "    lon = row[\"@lon\"] #<class 'float'>\n",
    "\n",
    "    lat = row[\"@lat\"] #<class 'float'>\n",
    "    "
   ]
  },
  {
   "cell_type": "markdown",
   "metadata": {},
   "source": []
  }
 ],
 "metadata": {
  "kernelspec": {
   "display_name": "gta23",
   "language": "python",
   "name": "python3"
  },
  "language_info": {
   "codemirror_mode": {
    "name": "ipython",
    "version": 3
   },
   "file_extension": ".py",
   "mimetype": "text/x-python",
   "name": "python",
   "nbconvert_exporter": "python",
   "pygments_lexer": "ipython3",
   "version": "3.9.7"
  }
 },
 "nbformat": 4,
 "nbformat_minor": 2
}
