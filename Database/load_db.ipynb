{
 "cells": [
  {
   "cell_type": "code",
   "execution_count": 85,
   "metadata": {},
   "outputs": [],
   "source": [
    "import psycopg2\n",
    "from psycopg2.extensions import AsIs\n",
    "import psycopg2\n",
    "import pandas as pd"
   ]
  },
  {
   "cell_type": "code",
   "execution_count": 86,
   "metadata": {},
   "outputs": [
    {
     "data": {
      "text/plain": [
       "{'dbname': 'gta',\n",
       " 'port': 5432,\n",
       " 'user': 'gta_p8',\n",
       " 'password': 'r7sdkfdq',\n",
       " 'host': 'ikgpgis.ethz.ch'}"
      ]
     },
     "metadata": {},
     "output_type": "display_data"
    }
   ],
   "source": [
    "%run -i ../sql_helpers.py\n",
    "display(db_credentials)"
   ]
  },
  {
   "cell_type": "code",
   "execution_count": 87,
   "metadata": {},
   "outputs": [
    {
     "data": {
      "text/plain": [
       "<bound method NDFrame.head of           @lat      @lon                                       name  \\\n",
       "0    47.371937  8.520866                      Synagoge Agudas Achim   \n",
       "1    47.375034  8.527694          Evangelisch Methodistische Kirche   \n",
       "2    47.402983  8.574152                          Kirchgemeindehaus   \n",
       "3    47.369365  8.553327     Mission catholique de langue française   \n",
       "4    47.369483  8.553266                 Couvent St-Nicolas de Myre   \n",
       "..         ...       ...                                        ...   \n",
       "115  47.332704  8.516048                            Kirche Leimbach   \n",
       "116  47.365626  8.553062              Kirche Christi Wissenschafter   \n",
       "117  47.414579  8.518635  Kirchliches Zentrum Neuaffoltern Glaubten   \n",
       "118  47.370554  8.505807                        Thomaskirche im Gut   \n",
       "119  47.360712  8.505901                                Friesenberg   \n",
       "\n",
       "             addr:street addr:housenumber  addr:postcode addr:city building  \\\n",
       "0           Erikastrasse                8         8003.0    Zürich      NaN   \n",
       "1                    NaN              NaN            NaN       NaN      NaN   \n",
       "2                    NaN              NaN            NaN       NaN      NaN   \n",
       "3       Hottingerstrasse               36         8032.0    Zürich      NaN   \n",
       "4       Hottingerstrasse               36         8032.0    Zürich      NaN   \n",
       "..                   ...              ...            ...       ...      ...   \n",
       "115                  NaN              NaN            NaN       NaN      NaN   \n",
       "116                  NaN              NaN            NaN       NaN      NaN   \n",
       "117  Riedenhaldenstrasse                1            NaN       NaN   church   \n",
       "118                  NaN              NaN            NaN       NaN      NaN   \n",
       "119                  NaN              NaN            NaN       NaN      NaN   \n",
       "\n",
       "      religion      denomination  \n",
       "0       jewish               NaN  \n",
       "1    christian         methodist  \n",
       "2    christian          reformed  \n",
       "3    christian    roman_catholic  \n",
       "4    christian    roman_catholic  \n",
       "..         ...               ...  \n",
       "115  christian        protestant  \n",
       "116  christian  christ_scientist  \n",
       "117  christian               NaN  \n",
       "118  christian        protestant  \n",
       "119  christian               NaN  \n",
       "\n",
       "[120 rows x 10 columns]>"
      ]
     },
     "execution_count": 87,
     "metadata": {},
     "output_type": "execute_result"
    }
   ],
   "source": [
    "kirchen_zuerich = pd.read_csv(\"csv/kirchen-zurich.csv\", encoding = \"utf-8\", sep=\"\t\")\n",
    "restaurant_zurich = pd.read_csv(\"csv/restaurant-zurich.csv\", encoding = \"utf-8\", sep=\"\t\")\n",
    "kirchen_zuerich.head"
   ]
  },
  {
   "cell_type": "code",
   "execution_count": 88,
   "metadata": {},
   "outputs": [],
   "source": [
    "conn = psycopg2.connect(**db_credentials)\n",
    "cur = conn.cursor()"
   ]
  },
  {
   "cell_type": "code",
   "execution_count": 93,
   "metadata": {},
   "outputs": [
    {
     "data": {
      "text/plain": [
       "b\"INSERT INTO church (address_id, church_name) VALUES (100, 'kirche')\""
      ]
     },
     "execution_count": 93,
     "metadata": {},
     "output_type": "execute_result"
    }
   ],
   "source": [
    "sql_string_with_placeholders = \"INSERT INTO church (address_id, church_name) VALUES (%s, %s)\"\n",
    "cur.mogrify(sql_string_with_placeholders,(100, \"kirche\"))"
   ]
  },
  {
   "cell_type": "markdown",
   "metadata": {},
   "source": []
  },
  {
   "cell_type": "code",
   "execution_count": 96,
   "metadata": {},
   "outputs": [
    {
     "name": "stdout",
     "output_type": "stream",
     "text": [
      "If Not Exists(select * from gta_p8.city where postcode='8003') Begin insert into ta_p8.city (city_postcode, city_name) VALUES (%s, %s) End\n",
      "If Not Exists(select * from gta_p8.city where postcode='-') Begin insert into ta_p8.city (city_postcode, city_name) VALUES (%s, %s) End\n",
      "If Not Exists(select * from gta_p8.city where postcode='-') Begin insert into ta_p8.city (city_postcode, city_name) VALUES (%s, %s) End\n",
      "If Not Exists(select * from gta_p8.city where postcode='8032') Begin insert into ta_p8.city (city_postcode, city_name) VALUES (%s, %s) End\n",
      "If Not Exists(select * from gta_p8.city where postcode='8032') Begin insert into ta_p8.city (city_postcode, city_name) VALUES (%s, %s) End\n",
      "If Not Exists(select * from gta_p8.city where postcode='8004') Begin insert into ta_p8.city (city_postcode, city_name) VALUES (%s, %s) End\n",
      "If Not Exists(select * from gta_p8.city where postcode='-') Begin insert into ta_p8.city (city_postcode, city_name) VALUES (%s, %s) End\n",
      "If Not Exists(select * from gta_p8.city where postcode='-') Begin insert into ta_p8.city (city_postcode, city_name) VALUES (%s, %s) End\n",
      "If Not Exists(select * from gta_p8.city where postcode='-') Begin insert into ta_p8.city (city_postcode, city_name) VALUES (%s, %s) End\n",
      "If Not Exists(select * from gta_p8.city where postcode='-') Begin insert into ta_p8.city (city_postcode, city_name) VALUES (%s, %s) End\n",
      "If Not Exists(select * from gta_p8.city where postcode='8004') Begin insert into ta_p8.city (city_postcode, city_name) VALUES (%s, %s) End\n",
      "If Not Exists(select * from gta_p8.city where postcode='-') Begin insert into ta_p8.city (city_postcode, city_name) VALUES (%s, %s) End\n",
      "If Not Exists(select * from gta_p8.city where postcode='8047') Begin insert into ta_p8.city (city_postcode, city_name) VALUES (%s, %s) End\n",
      "If Not Exists(select * from gta_p8.city where postcode='-') Begin insert into ta_p8.city (city_postcode, city_name) VALUES (%s, %s) End\n",
      "If Not Exists(select * from gta_p8.city where postcode='8057') Begin insert into ta_p8.city (city_postcode, city_name) VALUES (%s, %s) End\n",
      "If Not Exists(select * from gta_p8.city where postcode='8006') Begin insert into ta_p8.city (city_postcode, city_name) VALUES (%s, %s) End\n",
      "If Not Exists(select * from gta_p8.city where postcode='8006') Begin insert into ta_p8.city (city_postcode, city_name) VALUES (%s, %s) End\n",
      "If Not Exists(select * from gta_p8.city where postcode='8004') Begin insert into ta_p8.city (city_postcode, city_name) VALUES (%s, %s) End\n",
      "If Not Exists(select * from gta_p8.city where postcode='8057') Begin insert into ta_p8.city (city_postcode, city_name) VALUES (%s, %s) End\n",
      "If Not Exists(select * from gta_p8.city where postcode='8052') Begin insert into ta_p8.city (city_postcode, city_name) VALUES (%s, %s) End\n",
      "If Not Exists(select * from gta_p8.city where postcode='8048') Begin insert into ta_p8.city (city_postcode, city_name) VALUES (%s, %s) End\n",
      "If Not Exists(select * from gta_p8.city where postcode='-') Begin insert into ta_p8.city (city_postcode, city_name) VALUES (%s, %s) End\n",
      "If Not Exists(select * from gta_p8.city where postcode='8001') Begin insert into ta_p8.city (city_postcode, city_name) VALUES (%s, %s) End\n",
      "If Not Exists(select * from gta_p8.city where postcode='8037') Begin insert into ta_p8.city (city_postcode, city_name) VALUES (%s, %s) End\n",
      "If Not Exists(select * from gta_p8.city where postcode='8037') Begin insert into ta_p8.city (city_postcode, city_name) VALUES (%s, %s) End\n",
      "If Not Exists(select * from gta_p8.city where postcode='8046') Begin insert into ta_p8.city (city_postcode, city_name) VALUES (%s, %s) End\n",
      "If Not Exists(select * from gta_p8.city where postcode='8002') Begin insert into ta_p8.city (city_postcode, city_name) VALUES (%s, %s) End\n",
      "If Not Exists(select * from gta_p8.city where postcode='-') Begin insert into ta_p8.city (city_postcode, city_name) VALUES (%s, %s) End\n",
      "If Not Exists(select * from gta_p8.city where postcode='8057') Begin insert into ta_p8.city (city_postcode, city_name) VALUES (%s, %s) End\n",
      "If Not Exists(select * from gta_p8.city where postcode='8049') Begin insert into ta_p8.city (city_postcode, city_name) VALUES (%s, %s) End\n",
      "If Not Exists(select * from gta_p8.city where postcode='-') Begin insert into ta_p8.city (city_postcode, city_name) VALUES (%s, %s) End\n",
      "If Not Exists(select * from gta_p8.city where postcode='8004') Begin insert into ta_p8.city (city_postcode, city_name) VALUES (%s, %s) End\n",
      "If Not Exists(select * from gta_p8.city where postcode='8001') Begin insert into ta_p8.city (city_postcode, city_name) VALUES (%s, %s) End\n",
      "If Not Exists(select * from gta_p8.city where postcode='8037') Begin insert into ta_p8.city (city_postcode, city_name) VALUES (%s, %s) End\n",
      "If Not Exists(select * from gta_p8.city where postcode='8052') Begin insert into ta_p8.city (city_postcode, city_name) VALUES (%s, %s) End\n",
      "If Not Exists(select * from gta_p8.city where postcode='8001') Begin insert into ta_p8.city (city_postcode, city_name) VALUES (%s, %s) End\n",
      "If Not Exists(select * from gta_p8.city where postcode='8001') Begin insert into ta_p8.city (city_postcode, city_name) VALUES (%s, %s) End\n",
      "If Not Exists(select * from gta_p8.city where postcode='8032') Begin insert into ta_p8.city (city_postcode, city_name) VALUES (%s, %s) End\n",
      "If Not Exists(select * from gta_p8.city where postcode='-') Begin insert into ta_p8.city (city_postcode, city_name) VALUES (%s, %s) End\n",
      "If Not Exists(select * from gta_p8.city where postcode='8032') Begin insert into ta_p8.city (city_postcode, city_name) VALUES (%s, %s) End\n",
      "If Not Exists(select * from gta_p8.city where postcode='8001') Begin insert into ta_p8.city (city_postcode, city_name) VALUES (%s, %s) End\n",
      "If Not Exists(select * from gta_p8.city where postcode='8044') Begin insert into ta_p8.city (city_postcode, city_name) VALUES (%s, %s) End\n",
      "If Not Exists(select * from gta_p8.city where postcode='8044') Begin insert into ta_p8.city (city_postcode, city_name) VALUES (%s, %s) End\n",
      "If Not Exists(select * from gta_p8.city where postcode='8044') Begin insert into ta_p8.city (city_postcode, city_name) VALUES (%s, %s) End\n",
      "If Not Exists(select * from gta_p8.city where postcode='8003') Begin insert into ta_p8.city (city_postcode, city_name) VALUES (%s, %s) End\n",
      "If Not Exists(select * from gta_p8.city where postcode='8008') Begin insert into ta_p8.city (city_postcode, city_name) VALUES (%s, %s) End\n",
      "If Not Exists(select * from gta_p8.city where postcode='8001') Begin insert into ta_p8.city (city_postcode, city_name) VALUES (%s, %s) End\n",
      "If Not Exists(select * from gta_p8.city where postcode='8004') Begin insert into ta_p8.city (city_postcode, city_name) VALUES (%s, %s) End\n",
      "If Not Exists(select * from gta_p8.city where postcode='8005') Begin insert into ta_p8.city (city_postcode, city_name) VALUES (%s, %s) End\n",
      "If Not Exists(select * from gta_p8.city where postcode='8003') Begin insert into ta_p8.city (city_postcode, city_name) VALUES (%s, %s) End\n",
      "If Not Exists(select * from gta_p8.city where postcode='8001') Begin insert into ta_p8.city (city_postcode, city_name) VALUES (%s, %s) End\n",
      "If Not Exists(select * from gta_p8.city where postcode='8047') Begin insert into ta_p8.city (city_postcode, city_name) VALUES (%s, %s) End\n",
      "If Not Exists(select * from gta_p8.city where postcode='8046') Begin insert into ta_p8.city (city_postcode, city_name) VALUES (%s, %s) End\n",
      "If Not Exists(select * from gta_p8.city where postcode='-') Begin insert into ta_p8.city (city_postcode, city_name) VALUES (%s, %s) End\n",
      "If Not Exists(select * from gta_p8.city where postcode='8057') Begin insert into ta_p8.city (city_postcode, city_name) VALUES (%s, %s) End\n",
      "If Not Exists(select * from gta_p8.city where postcode='-') Begin insert into ta_p8.city (city_postcode, city_name) VALUES (%s, %s) End\n",
      "If Not Exists(select * from gta_p8.city where postcode='-') Begin insert into ta_p8.city (city_postcode, city_name) VALUES (%s, %s) End\n",
      "If Not Exists(select * from gta_p8.city where postcode='-') Begin insert into ta_p8.city (city_postcode, city_name) VALUES (%s, %s) End\n",
      "If Not Exists(select * from gta_p8.city where postcode='-') Begin insert into ta_p8.city (city_postcode, city_name) VALUES (%s, %s) End\n",
      "If Not Exists(select * from gta_p8.city where postcode='-') Begin insert into ta_p8.city (city_postcode, city_name) VALUES (%s, %s) End\n",
      "If Not Exists(select * from gta_p8.city where postcode='-') Begin insert into ta_p8.city (city_postcode, city_name) VALUES (%s, %s) End\n",
      "If Not Exists(select * from gta_p8.city where postcode='8048') Begin insert into ta_p8.city (city_postcode, city_name) VALUES (%s, %s) End\n",
      "If Not Exists(select * from gta_p8.city where postcode='-') Begin insert into ta_p8.city (city_postcode, city_name) VALUES (%s, %s) End\n",
      "If Not Exists(select * from gta_p8.city where postcode='8051') Begin insert into ta_p8.city (city_postcode, city_name) VALUES (%s, %s) End\n",
      "If Not Exists(select * from gta_p8.city where postcode='8055') Begin insert into ta_p8.city (city_postcode, city_name) VALUES (%s, %s) End\n",
      "If Not Exists(select * from gta_p8.city where postcode='-') Begin insert into ta_p8.city (city_postcode, city_name) VALUES (%s, %s) End\n",
      "If Not Exists(select * from gta_p8.city where postcode='-') Begin insert into ta_p8.city (city_postcode, city_name) VALUES (%s, %s) End\n",
      "If Not Exists(select * from gta_p8.city where postcode='-') Begin insert into ta_p8.city (city_postcode, city_name) VALUES (%s, %s) End\n",
      "If Not Exists(select * from gta_p8.city where postcode='8032') Begin insert into ta_p8.city (city_postcode, city_name) VALUES (%s, %s) End\n",
      "If Not Exists(select * from gta_p8.city where postcode='-') Begin insert into ta_p8.city (city_postcode, city_name) VALUES (%s, %s) End\n",
      "If Not Exists(select * from gta_p8.city where postcode='8004') Begin insert into ta_p8.city (city_postcode, city_name) VALUES (%s, %s) End\n",
      "If Not Exists(select * from gta_p8.city where postcode='8050') Begin insert into ta_p8.city (city_postcode, city_name) VALUES (%s, %s) End\n",
      "If Not Exists(select * from gta_p8.city where postcode='8001') Begin insert into ta_p8.city (city_postcode, city_name) VALUES (%s, %s) End\n",
      "If Not Exists(select * from gta_p8.city where postcode='8001') Begin insert into ta_p8.city (city_postcode, city_name) VALUES (%s, %s) End\n",
      "If Not Exists(select * from gta_p8.city where postcode='8057') Begin insert into ta_p8.city (city_postcode, city_name) VALUES (%s, %s) End\n",
      "If Not Exists(select * from gta_p8.city where postcode='8050') Begin insert into ta_p8.city (city_postcode, city_name) VALUES (%s, %s) End\n",
      "If Not Exists(select * from gta_p8.city where postcode='-') Begin insert into ta_p8.city (city_postcode, city_name) VALUES (%s, %s) End\n",
      "If Not Exists(select * from gta_p8.city where postcode='8051') Begin insert into ta_p8.city (city_postcode, city_name) VALUES (%s, %s) End\n",
      "If Not Exists(select * from gta_p8.city where postcode='8051') Begin insert into ta_p8.city (city_postcode, city_name) VALUES (%s, %s) End\n",
      "If Not Exists(select * from gta_p8.city where postcode='8001') Begin insert into ta_p8.city (city_postcode, city_name) VALUES (%s, %s) End\n",
      "If Not Exists(select * from gta_p8.city where postcode='8037') Begin insert into ta_p8.city (city_postcode, city_name) VALUES (%s, %s) End\n",
      "If Not Exists(select * from gta_p8.city where postcode='8057') Begin insert into ta_p8.city (city_postcode, city_name) VALUES (%s, %s) End\n",
      "If Not Exists(select * from gta_p8.city where postcode='8051') Begin insert into ta_p8.city (city_postcode, city_name) VALUES (%s, %s) End\n",
      "If Not Exists(select * from gta_p8.city where postcode='8008') Begin insert into ta_p8.city (city_postcode, city_name) VALUES (%s, %s) End\n",
      "If Not Exists(select * from gta_p8.city where postcode='8006') Begin insert into ta_p8.city (city_postcode, city_name) VALUES (%s, %s) End\n",
      "If Not Exists(select * from gta_p8.city where postcode='8006') Begin insert into ta_p8.city (city_postcode, city_name) VALUES (%s, %s) End\n",
      "If Not Exists(select * from gta_p8.city where postcode='8006') Begin insert into ta_p8.city (city_postcode, city_name) VALUES (%s, %s) End\n",
      "If Not Exists(select * from gta_p8.city where postcode='8006') Begin insert into ta_p8.city (city_postcode, city_name) VALUES (%s, %s) End\n",
      "If Not Exists(select * from gta_p8.city where postcode='-') Begin insert into ta_p8.city (city_postcode, city_name) VALUES (%s, %s) End\n",
      "If Not Exists(select * from gta_p8.city where postcode='-') Begin insert into ta_p8.city (city_postcode, city_name) VALUES (%s, %s) End\n",
      "If Not Exists(select * from gta_p8.city where postcode='8001') Begin insert into ta_p8.city (city_postcode, city_name) VALUES (%s, %s) End\n",
      "If Not Exists(select * from gta_p8.city where postcode='8046') Begin insert into ta_p8.city (city_postcode, city_name) VALUES (%s, %s) End\n",
      "If Not Exists(select * from gta_p8.city where postcode='8032') Begin insert into ta_p8.city (city_postcode, city_name) VALUES (%s, %s) End\n",
      "If Not Exists(select * from gta_p8.city where postcode='8005') Begin insert into ta_p8.city (city_postcode, city_name) VALUES (%s, %s) End\n",
      "If Not Exists(select * from gta_p8.city where postcode='8032') Begin insert into ta_p8.city (city_postcode, city_name) VALUES (%s, %s) End\n",
      "If Not Exists(select * from gta_p8.city where postcode='8001') Begin insert into ta_p8.city (city_postcode, city_name) VALUES (%s, %s) End\n",
      "If Not Exists(select * from gta_p8.city where postcode='8008') Begin insert into ta_p8.city (city_postcode, city_name) VALUES (%s, %s) End\n",
      "If Not Exists(select * from gta_p8.city where postcode='8008') Begin insert into ta_p8.city (city_postcode, city_name) VALUES (%s, %s) End\n",
      "If Not Exists(select * from gta_p8.city where postcode='8050') Begin insert into ta_p8.city (city_postcode, city_name) VALUES (%s, %s) End\n",
      "If Not Exists(select * from gta_p8.city where postcode='-') Begin insert into ta_p8.city (city_postcode, city_name) VALUES (%s, %s) End\n",
      "If Not Exists(select * from gta_p8.city where postcode='8053') Begin insert into ta_p8.city (city_postcode, city_name) VALUES (%s, %s) End\n",
      "If Not Exists(select * from gta_p8.city where postcode='8053') Begin insert into ta_p8.city (city_postcode, city_name) VALUES (%s, %s) End\n",
      "If Not Exists(select * from gta_p8.city where postcode='8002') Begin insert into ta_p8.city (city_postcode, city_name) VALUES (%s, %s) End\n",
      "If Not Exists(select * from gta_p8.city where postcode='8053') Begin insert into ta_p8.city (city_postcode, city_name) VALUES (%s, %s) End\n",
      "If Not Exists(select * from gta_p8.city where postcode='8003') Begin insert into ta_p8.city (city_postcode, city_name) VALUES (%s, %s) End\n",
      "If Not Exists(select * from gta_p8.city where postcode='8048') Begin insert into ta_p8.city (city_postcode, city_name) VALUES (%s, %s) End\n",
      "If Not Exists(select * from gta_p8.city where postcode='-') Begin insert into ta_p8.city (city_postcode, city_name) VALUES (%s, %s) End\n",
      "If Not Exists(select * from gta_p8.city where postcode='8048') Begin insert into ta_p8.city (city_postcode, city_name) VALUES (%s, %s) End\n",
      "If Not Exists(select * from gta_p8.city where postcode='-') Begin insert into ta_p8.city (city_postcode, city_name) VALUES (%s, %s) End\n",
      "If Not Exists(select * from gta_p8.city where postcode='8055') Begin insert into ta_p8.city (city_postcode, city_name) VALUES (%s, %s) End\n",
      "If Not Exists(select * from gta_p8.city where postcode='-') Begin insert into ta_p8.city (city_postcode, city_name) VALUES (%s, %s) End\n",
      "If Not Exists(select * from gta_p8.city where postcode='8055') Begin insert into ta_p8.city (city_postcode, city_name) VALUES (%s, %s) End\n",
      "If Not Exists(select * from gta_p8.city where postcode='-') Begin insert into ta_p8.city (city_postcode, city_name) VALUES (%s, %s) End\n",
      "If Not Exists(select * from gta_p8.city where postcode='-') Begin insert into ta_p8.city (city_postcode, city_name) VALUES (%s, %s) End\n",
      "If Not Exists(select * from gta_p8.city where postcode='-') Begin insert into ta_p8.city (city_postcode, city_name) VALUES (%s, %s) End\n",
      "If Not Exists(select * from gta_p8.city where postcode='-') Begin insert into ta_p8.city (city_postcode, city_name) VALUES (%s, %s) End\n",
      "If Not Exists(select * from gta_p8.city where postcode='-') Begin insert into ta_p8.city (city_postcode, city_name) VALUES (%s, %s) End\n",
      "If Not Exists(select * from gta_p8.city where postcode='-') Begin insert into ta_p8.city (city_postcode, city_name) VALUES (%s, %s) End\n",
      "If Not Exists(select * from gta_p8.city where postcode='-') Begin insert into ta_p8.city (city_postcode, city_name) VALUES (%s, %s) End\n",
      "If Not Exists(select * from gta_p8.city where postcode='-') Begin insert into ta_p8.city (city_postcode, city_name) VALUES (%s, %s) End\n"
     ]
    }
   ],
   "source": [
    "for idx, row in kirchen_zuerich.iterrows():\n",
    "    #prepare input values\n",
    "    church_name = row['name'] #<class 'str'> x\n",
    "\n",
    "    address_street = row['addr:street'] #<class 'str'>\n",
    "    if(type(address_street) == float):\n",
    "        address_street = 'keine Adresse vorhanden!'\n",
    "\n",
    "    address_number = row['addr:housenumber'] #<class 'str'>\n",
    "    if(type(address_number) == float):\n",
    "        address_number = '-'\n",
    "\n",
    "    city_postcode = row['addr:postcode'] #<class 'str'>\n",
    "    if pd.isna(city_postcode) == True:\n",
    "        city_postcode = '-'\n",
    "    else:\n",
    "        city_postcode = int(city_postcode)\n",
    "        city_postcode = str(city_postcode)\n",
    "\n",
    "    city_name = row['addr:city'] #<class 'str'>\n",
    "    if(type(city_name) == float):\n",
    "        city_name = '-'\n",
    "\n",
    "    lon = row[\"@lon\"] #<class 'float'>\n",
    "\n",
    "    lat = row[\"@lat\"] #<class 'float'>\n",
    "\n",
    "\n",
    "\n",
    "    sql_city = \"If Not Exists(select * from gta_p8.city where postcode='\"+city_postcode+\"') Begin insert into ta_p8.city (city_postcode, city_name) VALUES (%s, %s) End\"\n",
    "\n",
    "    sql_address = ...\n",
    "\n",
    "    sql_kirchen = \"INSERT INTO gta_p8.church (address_id, church_name) VALUES (%s, %s)\""
   ]
  },
  {
   "cell_type": "code",
   "execution_count": 91,
   "metadata": {},
   "outputs": [],
   "source": [
    "for idx, row in restaurant_zurich.iterrows():\n",
    "    #prepare input values\n",
    "    restaurant_name = row['name'] #<class 'str'>\n",
    "\n",
    "    restaurant_website = row['website'] #<class 'str'>\n",
    "    if(type(restaurant_website) == float):\n",
    "        restaurant_website = 'keine Website vorhanden!'\n",
    "\n",
    "    restaurant_type = row['cuisine']\n",
    "    if(type(restaurant_type) == float):\n",
    "        restaurant_type = 'keine Kategorie!'\n",
    "\n",
    "    address_street = row['addr:street'] #<class 'str'>\n",
    "    if(type(address_street) == float):\n",
    "        address_street = 'keine Adresse vorhanden!'\n",
    "\n",
    "    address_number = row['addr:housenumber'] #<class 'str'>\n",
    "    if(type(address_number) == float):\n",
    "        address_number = '-'\n",
    "\n",
    "    city_postcode = row['addr:postcode'] #<class 'str'>\n",
    "    if pd.isna(city_postcode) == True:\n",
    "        city_postcode = '-'\n",
    "    else:\n",
    "        city_postcode = str(city_postcode)\n",
    "\n",
    "    city_name = row['addr:city'] #<class 'str'>\n",
    "    if(type(city_name) == float):\n",
    "        city_name = '-'   \n",
    "\n",
    "    lon = row[\"@lon\"] #<class 'float'>\n",
    "\n",
    "    lat = row[\"@lat\"] #<class 'float'>\n",
    "    "
   ]
  },
  {
   "cell_type": "markdown",
   "metadata": {},
   "source": []
  }
 ],
 "metadata": {
  "kernelspec": {
   "display_name": "gta23",
   "language": "python",
   "name": "python3"
  },
  "language_info": {
   "codemirror_mode": {
    "name": "ipython",
    "version": 3
   },
   "file_extension": ".py",
   "mimetype": "text/x-python",
   "name": "python",
   "nbconvert_exporter": "python",
   "pygments_lexer": "ipython3",
   "version": "3.9.7"
  }
 },
 "nbformat": 4,
 "nbformat_minor": 2
}
