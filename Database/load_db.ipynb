{
 "cells": [
  {
   "cell_type": "code",
   "execution_count": 564,
   "metadata": {},
   "outputs": [],
   "source": [
    "import psycopg2\n",
    "from psycopg2.extensions import AsIs\n",
    "import psycopg2\n",
    "import pandas as pd\n",
    "import numpy as np"
   ]
  },
  {
   "cell_type": "code",
   "execution_count": 565,
   "metadata": {},
   "outputs": [
    {
     "data": {
      "text/plain": [
       "{'dbname': 'gta',\n",
       " 'port': 5432,\n",
       " 'user': 'gta_p8',\n",
       " 'password': 'r7sdkfdq',\n",
       " 'host': 'ikgpgis.ethz.ch'}"
      ]
     },
     "metadata": {},
     "output_type": "display_data"
    }
   ],
   "source": [
    "%run -i ../sql_helpers.py\n",
    "display(db_credentials)"
   ]
  },
  {
   "cell_type": "code",
   "execution_count": 566,
   "metadata": {},
   "outputs": [],
   "source": [
    "kirchen_zuerich = pd.read_csv(\"csv/kirchen-zurich.csv\", encoding = \"utf-8\", sep=\"\t\")\n",
    "restaurant_zurich = pd.read_csv(\"csv/restaurant-zurich.csv\", encoding = \"utf-8\", sep=\"\t\")"
   ]
  },
  {
   "cell_type": "code",
   "execution_count": 567,
   "metadata": {},
   "outputs": [],
   "source": [
    "conn = psycopg2.connect(**db_credentials)\n",
    "cur = conn.cursor()"
   ]
  },
  {
   "cell_type": "code",
   "execution_count": 568,
   "metadata": {},
   "outputs": [
    {
     "data": {
      "text/plain": [
       "b\"INSERT INTO church (address_id, church_name) VALUES (100, 'kirche')\""
      ]
     },
     "execution_count": 568,
     "metadata": {},
     "output_type": "execute_result"
    }
   ],
   "source": [
    "sql_string_with_placeholders = \"INSERT INTO church (address_id, church_name) VALUES (%s, %s)\"\n",
    "cur.mogrify(sql_string_with_placeholders,(100, \"kirche\"))"
   ]
  },
  {
   "cell_type": "code",
   "execution_count": 569,
   "metadata": {},
   "outputs": [],
   "source": [
    "conn.commit()\n",
    "conn.close()"
   ]
  },
  {
   "cell_type": "markdown",
   "metadata": {},
   "source": [
    "Kirchen"
   ]
  },
  {
   "cell_type": "code",
   "execution_count": 570,
   "metadata": {},
   "outputs": [],
   "source": [
    "conn = psycopg2.connect(**db_credentials)\n",
    "cur = conn.cursor()"
   ]
  },
  {
   "cell_type": "code",
   "execution_count": 571,
   "metadata": {},
   "outputs": [],
   "source": [
    "city_id_array = np.empty(0)\n",
    "\n",
    "for idx, row in kirchen_zuerich.iterrows():\n",
    "    #prepare input values\n",
    "    church_name = row['name'] #<class 'str'> x\n",
    "\n",
    "    address_street = row['addr:street'] #<class 'str'>\n",
    "    if(type(address_street) == float):\n",
    "        address_street = 'keine Adresse vorhanden!'\n",
    "\n",
    "    address_number = row['addr:housenumber'] #<class 'str'>\n",
    "    if(type(address_number) == float):\n",
    "        address_number = '-'\n",
    "\n",
    "    city_postcode = row['addr:postcode'] #<class 'str'>\n",
    "    if pd.isna(city_postcode) == True:\n",
    "        city_postcode = '-'\n",
    "    else:\n",
    "        city_postcode = int(city_postcode)\n",
    "        city_postcode = str(city_postcode)\n",
    "\n",
    "    city_name = row['addr:city'] #<class 'str'>\n",
    "    if(type(city_name) == float):\n",
    "        city_name = '-'\n",
    "\n",
    "    lon = row[\"@lon\"] #<class 'float'>\n",
    "\n",
    "    lat = row[\"@lat\"] #<class 'float'>\n",
    "\n",
    "    #EXECUTE sql_commands:\n",
    "\n",
    "    #city_table\n",
    "    sql_fill_city = \"INSERT INTO gta_p8.city (city_postcode, city_name) SELECT '\"+city_postcode+\"', '\"+city_name+\"' WHERE NOT EXISTS (select * from gta_p8.city where city_postcode='\"+city_postcode+\"');\"\n",
    "\n",
    "    cur.execute(sql_fill_city, (city_postcode, city_name))\n",
    "\n",
    "    #address_table_preparation\n",
    "    cur.execute(\"SELECT city_id FROM gta_p8.city WHERE city_postcode='\"+city_postcode+\"';\")\n",
    "    result = cur.fetchone()\n",
    "    city_id_array = np.append(city_id_array, result[0])\n",
    "\n",
    "\n",
    "\n"
   ]
  },
  {
   "cell_type": "code",
   "execution_count": 572,
   "metadata": {},
   "outputs": [],
   "source": [
    "conn.commit()\n",
    "conn.close()"
   ]
  },
  {
   "cell_type": "code",
   "execution_count": 573,
   "metadata": {},
   "outputs": [],
   "source": [
    "conn = psycopg2.connect(**db_credentials)\n",
    "cur = conn.cursor()"
   ]
  },
  {
   "cell_type": "code",
   "execution_count": 574,
   "metadata": {},
   "outputs": [],
   "source": [
    "address_id_array = np.empty(0)\n",
    "\n",
    "for idx, row in kirchen_zuerich.iterrows():\n",
    "    #prepare input values\n",
    "    church_name = row['name'] #<class 'str'> x\n",
    "\n",
    "    address_street = row['addr:street'] #<class 'str'>\n",
    "    if(type(address_street) == float):\n",
    "        address_street = 'keine Adresse vorhanden!'\n",
    "\n",
    "    address_number = row['addr:housenumber'] #<class 'str'>\n",
    "    if(type(address_number) == float):\n",
    "        address_number = '-'\n",
    "\n",
    "    city_postcode = row['addr:postcode'] #<class 'str'>\n",
    "    if pd.isna(city_postcode) == True:\n",
    "        city_postcode = '-'\n",
    "    else:\n",
    "        city_postcode = int(city_postcode)\n",
    "        city_postcode = str(city_postcode)\n",
    "\n",
    "    city_name = row['addr:city'] #<class 'str'>\n",
    "    if(type(city_name) == float):\n",
    "        city_name = '-'\n",
    "\n",
    "    lon = row[\"@lon\"] #<class 'float'>\n",
    "\n",
    "    lat = row[\"@lat\"] #<class 'float'>\n",
    "\n",
    "    #EXECUTE sql_commands:\n",
    "\n",
    "    #address_table\n",
    "    city_id_fk = str(int(city_id_array[idx]))\n",
    "\n",
    "    sql_fill_address = \"INSERT INTO gta_p8.address (address_street, address_number, city_id) SELECT '\"+address_street+\"', '\"+address_number+\"', '\"+city_id_fk+\"' WHERE NOT EXISTS (select * from gta_p8.address where address_street='\"+address_street+\"' AND address_number='\"+address_number+\"');\"\n",
    "  \n",
    "    cur.execute(sql_fill_address, (address_street, address_number, city_id_fk))\n",
    "\n",
    "    #kirchen_table_preparation\n",
    "    cur.execute(\"SELECT address_id FROM gta_p8.address WHERE address_street='\"+address_street+\"' AND address_number='\"+address_number+\"';\")\n",
    "    result = cur.fetchone()\n",
    "    address_id_array = np.append(city_id_array, result[0])\n",
    "\n"
   ]
  },
  {
   "cell_type": "code",
   "execution_count": 578,
   "metadata": {},
   "outputs": [
    {
     "name": "stdout",
     "output_type": "stream",
     "text": [
      "[ 85.  86.  86.  87.  87.  88.  86.  86.  86.  86.  88.  86.  89.  86.\n",
      "  90.  91.  91.  88.  90.  92.  93.  86.  94.  95.  95.  96.  97.  86.\n",
      "  90.  98.  86.  88.  94.  95.  92.  94.  94.  87.  86.  87.  94.  99.\n",
      "  99.  99.  85. 100.  94.  88. 101.  85.  94.  89.  96.  86.  90.  86.\n",
      "  86.  86.  86.  86.  86.  93.  86. 102. 103.  86.  86.  86.  87.  86.\n",
      "  88. 104.  94.  94.  90. 104.  86. 102. 102.  94.  95.  90. 102. 100.\n",
      "  91.  91.  91.  91.  86.  86.  94.  96.  87. 101.  87.  94. 100. 100.\n",
      " 104.  86. 105. 105.  97. 105.  85.  93.  86.  93.  86. 103.  86. 103.\n",
      "  86.  86.  86.  86.  86.  86.  86.  86. 941.]\n"
     ]
    }
   ],
   "source": [
    "conn.commit()\n",
    "conn.close()"
   ]
  },
  {
   "cell_type": "code",
   "execution_count": 576,
   "metadata": {},
   "outputs": [],
   "source": [
    "conn = psycopg2.connect(**db_credentials)\n",
    "cur = conn.cursor()"
   ]
  },
  {
   "cell_type": "code",
   "execution_count": 577,
   "metadata": {},
   "outputs": [
    {
     "ename": "ForeignKeyViolation",
     "evalue": "insert or update on table \"church\" violates foreign key constraint \"church_address_id_fkey\"\nDETAIL:  Key (address_id)=(85) is not present in table \"address\".\n",
     "output_type": "error",
     "traceback": [
      "\u001b[0;31m---------------------------------------------------------------------------\u001b[0m",
      "\u001b[0;31mForeignKeyViolation\u001b[0m                       Traceback (most recent call last)",
      "\u001b[1;32m/Users/niklaseckert/Library/CloudStorage/OneDrive-ETHZurich/ETH/HS23/GTA/GTA8/Database/load_db.ipynb Zelle 15\u001b[0m line \u001b[0;36m3\n\u001b[1;32m     <a href='vscode-notebook-cell:/Users/niklaseckert/Library/CloudStorage/OneDrive-ETHZurich/ETH/HS23/GTA/GTA8/Database/load_db.ipynb#X15sZmlsZQ%3D%3D?line=28'>29</a>\u001b[0m address_id_fk \u001b[39m=\u001b[39m \u001b[39mstr\u001b[39m(\u001b[39mint\u001b[39m(address_id_array[idx]))\n\u001b[1;32m     <a href='vscode-notebook-cell:/Users/niklaseckert/Library/CloudStorage/OneDrive-ETHZurich/ETH/HS23/GTA/GTA8/Database/load_db.ipynb#X15sZmlsZQ%3D%3D?line=30'>31</a>\u001b[0m sql_fill_address \u001b[39m=\u001b[39m \u001b[39m\"\u001b[39m\u001b[39mINSERT INTO gta_p8.church (church_name, address_id) SELECT \u001b[39m\u001b[39m'\u001b[39m\u001b[39m\"\u001b[39m\u001b[39m+\u001b[39mchurch_name\u001b[39m+\u001b[39m\u001b[39m\"\u001b[39m\u001b[39m'\u001b[39m\u001b[39m, \u001b[39m\u001b[39m'\u001b[39m\u001b[39m\"\u001b[39m\u001b[39m+\u001b[39maddress_id_fk\u001b[39m+\u001b[39m\u001b[39m\"\u001b[39m\u001b[39m'\u001b[39m\u001b[39m WHERE NOT EXISTS (select * from gta_p8.church where church_name=\u001b[39m\u001b[39m'\u001b[39m\u001b[39m\"\u001b[39m\u001b[39m+\u001b[39mchurch_name\u001b[39m+\u001b[39m\u001b[39m\"\u001b[39m\u001b[39m'\u001b[39m\u001b[39m);\u001b[39m\u001b[39m\"\u001b[39m\n\u001b[0;32m---> <a href='vscode-notebook-cell:/Users/niklaseckert/Library/CloudStorage/OneDrive-ETHZurich/ETH/HS23/GTA/GTA8/Database/load_db.ipynb#X15sZmlsZQ%3D%3D?line=32'>33</a>\u001b[0m cur\u001b[39m.\u001b[39;49mexecute(sql_fill_address, (church_name, address_id_fk))\n",
      "\u001b[0;31mForeignKeyViolation\u001b[0m: insert or update on table \"church\" violates foreign key constraint \"church_address_id_fkey\"\nDETAIL:  Key (address_id)=(85) is not present in table \"address\".\n"
     ]
    }
   ],
   "source": [
    "for idx, row in kirchen_zuerich.iterrows():\n",
    "    #prepare input values\n",
    "    church_name = row['name'] #<class 'str'> x\n",
    "\n",
    "    address_street = row['addr:street'] #<class 'str'>\n",
    "    if(type(address_street) == float):\n",
    "        address_street = 'keine Adresse vorhanden!'\n",
    "\n",
    "    address_number = row['addr:housenumber'] #<class 'str'>\n",
    "    if(type(address_number) == float):\n",
    "        address_number = '-'\n",
    "\n",
    "    city_postcode = row['addr:postcode'] #<class 'str'>\n",
    "    if pd.isna(city_postcode) == True:\n",
    "        city_postcode = '-'\n",
    "    else:\n",
    "        city_postcode = int(city_postcode)\n",
    "        city_postcode = str(city_postcode)\n",
    "\n",
    "    city_name = row['addr:city'] #<class 'str'>\n",
    "    if(type(city_name) == float):\n",
    "        city_name = '-'\n",
    "\n",
    "    lon = row[\"@lon\"] #<class 'float'>\n",
    "\n",
    "    lat = row[\"@lat\"] #<class 'float'>\n",
    "\n",
    "    #EXECUTE sql_commands:\n",
    "    address_id_fk = str(int(address_id_array[idx]))\n",
    "\n",
    "    sql_fill_address = \"INSERT INTO gta_p8.church (church_name, address_id) SELECT '\"+church_name+\"', '\"+address_id_fk+\"' WHERE NOT EXISTS (select * from gta_p8.church where church_name='\"+church_name+\"');\"\n",
    "\n",
    "    cur.execute(sql_fill_address, (church_name, address_id_fk))\n",
    "\n"
   ]
  },
  {
   "cell_type": "code",
   "execution_count": null,
   "metadata": {},
   "outputs": [],
   "source": [
    "conn.commit()\n",
    "conn.close()"
   ]
  },
  {
   "cell_type": "markdown",
   "metadata": {},
   "source": [
    "## Restaurants"
   ]
  },
  {
   "cell_type": "code",
   "execution_count": null,
   "metadata": {},
   "outputs": [],
   "source": [
    "for idx, row in restaurant_zurich.iterrows():\n",
    "    #prepare input values\n",
    "    restaurant_name = row['name'] #<class 'str'>\n",
    "\n",
    "    restaurant_website = row['website'] #<class 'str'>\n",
    "    if(type(restaurant_website) == float):\n",
    "        restaurant_website = 'keine Website vorhanden!'\n",
    "\n",
    "    restaurant_type = row['cuisine']\n",
    "    if(type(restaurant_type) == float):\n",
    "        restaurant_type = 'keine Kategorie!'\n",
    "\n",
    "    address_street = row['addr:street'] #<class 'str'>\n",
    "    if(type(address_street) == float):\n",
    "        address_street = 'keine Adresse vorhanden!'\n",
    "\n",
    "    address_number = row['addr:housenumber'] #<class 'str'>\n",
    "    if(type(address_number) == float):\n",
    "        address_number = '-'\n",
    "\n",
    "    city_postcode = row['addr:postcode'] #<class 'str'>\n",
    "    if pd.isna(city_postcode) == True:\n",
    "        city_postcode = '-'\n",
    "    else:\n",
    "        city_postcode = str(city_postcode)\n",
    "\n",
    "    city_name = row['addr:city'] #<class 'str'>\n",
    "    if(type(city_name) == float):\n",
    "        city_name = '-'   \n",
    "\n",
    "    lon = row[\"@lon\"] #<class 'float'>\n",
    "\n",
    "    lat = row[\"@lat\"] #<class 'float'>\n",
    "    "
   ]
  },
  {
   "cell_type": "markdown",
   "metadata": {},
   "source": []
  }
 ],
 "metadata": {
  "kernelspec": {
   "display_name": "gta23",
   "language": "python",
   "name": "python3"
  },
  "language_info": {
   "codemirror_mode": {
    "name": "ipython",
    "version": 3
   },
   "file_extension": ".py",
   "mimetype": "text/x-python",
   "name": "python",
   "nbconvert_exporter": "python",
   "pygments_lexer": "ipython3",
   "version": "3.9.7"
  }
 },
 "nbformat": 4,
 "nbformat_minor": 2
}
