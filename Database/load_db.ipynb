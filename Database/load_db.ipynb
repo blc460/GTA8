{
 "cells": [
  {
   "cell_type": "code",
   "execution_count": 32,
   "metadata": {},
   "outputs": [],
   "source": [
    "import psycopg2\n",
    "from psycopg2.extensions import AsIs\n",
    "import pandas as pd"
   ]
  },
  {
   "cell_type": "code",
   "execution_count": 33,
   "metadata": {},
   "outputs": [
    {
     "data": {
      "text/plain": [
       "{'dbname': 'gta',\n",
       " 'port': 5432,\n",
       " 'user': 'gta_p8',\n",
       " 'password': 'r7sdkfdq',\n",
       " 'host': 'ikgpgis.ethz.ch'}"
      ]
     },
     "metadata": {},
     "output_type": "display_data"
    }
   ],
   "source": [
    "%run -i ../sql_helpers.py\n",
    "display(db_credentials)"
   ]
  },
  {
   "cell_type": "code",
   "execution_count": 34,
   "metadata": {},
   "outputs": [
    {
     "data": {
      "text/plain": [
       "<bound method NDFrame.head of           @lat      @lon                                       name  \\\n",
       "0    47.371937  8.520866                      Synagoge Agudas Achim   \n",
       "1    47.375034  8.527694          Evangelisch Methodistische Kirche   \n",
       "2    47.402983  8.574152                          Kirchgemeindehaus   \n",
       "3    47.369365  8.553327     Mission catholique de langue française   \n",
       "4    47.369483  8.553266                 Couvent St-Nicolas de Myre   \n",
       "..         ...       ...                                        ...   \n",
       "115  47.332704  8.516048                            Kirche Leimbach   \n",
       "116  47.365626  8.553062              Kirche Christi Wissenschafter   \n",
       "117  47.414579  8.518635  Kirchliches Zentrum Neuaffoltern Glaubten   \n",
       "118  47.370554  8.505807                        Thomaskirche im Gut   \n",
       "119  47.360712  8.505901                                Friesenberg   \n",
       "\n",
       "             addr:street addr:housenumber  addr:postcode addr:city building  \\\n",
       "0           Erikastrasse                8         8003.0    Zürich      NaN   \n",
       "1                    NaN              NaN            NaN       NaN      NaN   \n",
       "2                    NaN              NaN            NaN       NaN      NaN   \n",
       "3       Hottingerstrasse               36         8032.0    Zürich      NaN   \n",
       "4       Hottingerstrasse               36         8032.0    Zürich      NaN   \n",
       "..                   ...              ...            ...       ...      ...   \n",
       "115                  NaN              NaN            NaN       NaN      NaN   \n",
       "116                  NaN              NaN            NaN       NaN      NaN   \n",
       "117  Riedenhaldenstrasse                1            NaN       NaN   church   \n",
       "118                  NaN              NaN            NaN       NaN      NaN   \n",
       "119                  NaN              NaN            NaN       NaN      NaN   \n",
       "\n",
       "      religion      denomination  \n",
       "0       jewish               NaN  \n",
       "1    christian         methodist  \n",
       "2    christian          reformed  \n",
       "3    christian    roman_catholic  \n",
       "4    christian    roman_catholic  \n",
       "..         ...               ...  \n",
       "115  christian        protestant  \n",
       "116  christian  christ_scientist  \n",
       "117  christian               NaN  \n",
       "118  christian        protestant  \n",
       "119  christian               NaN  \n",
       "\n",
       "[120 rows x 10 columns]>"
      ]
     },
     "execution_count": 34,
     "metadata": {},
     "output_type": "execute_result"
    }
   ],
   "source": [
    "kirchen_zuerich = pd.read_csv(\"csv/kirchen-zurich.csv\", encoding = \"utf-8\", sep=\"\t\")\n",
    "restaurant_zurich = pd.read_csv(\"csv/restaurant-zurich.csv\", encoding = \"utf-8\", sep=\"\t\")\n",
    "kirchen_zuerich.head"
   ]
  },
  {
   "cell_type": "code",
   "execution_count": 38,
   "metadata": {},
   "outputs": [],
   "source": [
    "for idx, row in kirchen_zuerich.iterrows():\n",
    "    #prepare input values\n",
    "    church_name = row['name']\n",
    "    address_street = row['addr:street']\n",
    "    address_number = row['addr:housenumber']\n",
    "    city_postcode = row['addr:postcode']\n",
    "    city_name = row['addr:city']\n",
    "    lon = row[\"@lon\"]   \n",
    "    lat = row[\"@lat\"]\n",
    "\n",
    "\n",
    "        \n"
   ]
  },
  {
   "cell_type": "markdown",
   "metadata": {},
   "source": []
  }
 ],
 "metadata": {
  "kernelspec": {
   "display_name": "gta23",
   "language": "python",
   "name": "python3"
  },
  "language_info": {
   "codemirror_mode": {
    "name": "ipython",
    "version": 3
   },
   "file_extension": ".py",
   "mimetype": "text/x-python",
   "name": "python",
   "nbconvert_exporter": "python",
   "pygments_lexer": "ipython3",
   "version": "3.9.7"
  }
 },
 "nbformat": 4,
 "nbformat_minor": 2
}
