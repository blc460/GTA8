{
 "cells": [
  {
   "cell_type": "code",
   "execution_count": 299,
   "metadata": {},
   "outputs": [],
   "source": [
    "import psycopg2\n",
    "from psycopg2.extensions import AsIs\n",
    "import psycopg2\n",
    "import pandas as pd\n",
    "import numpy as np"
   ]
  },
  {
   "cell_type": "code",
   "execution_count": 300,
   "metadata": {},
   "outputs": [
    {
     "data": {
      "text/plain": [
       "{'dbname': 'gta',\n",
       " 'port': 5432,\n",
       " 'user': 'gta_p8',\n",
       " 'password': 'r7sdkfdq',\n",
       " 'host': 'ikgpgis.ethz.ch'}"
      ]
     },
     "metadata": {},
     "output_type": "display_data"
    }
   ],
   "source": [
    "%run -i ../sql_helpers.py\n",
    "display(db_credentials)"
   ]
  },
  {
   "cell_type": "code",
   "execution_count": 301,
   "metadata": {},
   "outputs": [
    {
     "data": {
      "text/plain": [
       "<bound method NDFrame.head of           @lat      @lon                                       name  \\\n",
       "0    47.371937  8.520866                      Synagoge Agudas Achim   \n",
       "1    47.375034  8.527694          Evangelisch Methodistische Kirche   \n",
       "2    47.402983  8.574152                          Kirchgemeindehaus   \n",
       "3    47.369365  8.553327     Mission catholique de langue française   \n",
       "4    47.369483  8.553266                 Couvent St-Nicolas de Myre   \n",
       "..         ...       ...                                        ...   \n",
       "115  47.332704  8.516048                            Kirche Leimbach   \n",
       "116  47.365626  8.553062              Kirche Christi Wissenschafter   \n",
       "117  47.414579  8.518635  Kirchliches Zentrum Neuaffoltern Glaubten   \n",
       "118  47.370554  8.505807                        Thomaskirche im Gut   \n",
       "119  47.360712  8.505901                                Friesenberg   \n",
       "\n",
       "             addr:street addr:housenumber  addr:postcode addr:city building  \\\n",
       "0           Erikastrasse                8         8003.0    Zürich      NaN   \n",
       "1                    NaN              NaN            NaN       NaN      NaN   \n",
       "2                    NaN              NaN            NaN       NaN      NaN   \n",
       "3       Hottingerstrasse               36         8032.0    Zürich      NaN   \n",
       "4       Hottingerstrasse               36         8032.0    Zürich      NaN   \n",
       "..                   ...              ...            ...       ...      ...   \n",
       "115                  NaN              NaN            NaN       NaN      NaN   \n",
       "116                  NaN              NaN            NaN       NaN      NaN   \n",
       "117  Riedenhaldenstrasse                1            NaN       NaN   church   \n",
       "118                  NaN              NaN            NaN       NaN      NaN   \n",
       "119                  NaN              NaN            NaN       NaN      NaN   \n",
       "\n",
       "      religion      denomination  \n",
       "0       jewish               NaN  \n",
       "1    christian         methodist  \n",
       "2    christian          reformed  \n",
       "3    christian    roman_catholic  \n",
       "4    christian    roman_catholic  \n",
       "..         ...               ...  \n",
       "115  christian        protestant  \n",
       "116  christian  christ_scientist  \n",
       "117  christian               NaN  \n",
       "118  christian        protestant  \n",
       "119  christian               NaN  \n",
       "\n",
       "[120 rows x 10 columns]>"
      ]
     },
     "execution_count": 301,
     "metadata": {},
     "output_type": "execute_result"
    }
   ],
   "source": [
    "kirchen_zuerich = pd.read_csv(\"csv/kirchen-zurich.csv\", encoding = \"utf-8\", sep=\"\t\")\n",
    "restaurant_zurich = pd.read_csv(\"csv/restaurant-zurich.csv\", encoding = \"utf-8\", sep=\"\t\")\n",
    "kirchen_zuerich.head"
   ]
  },
  {
   "cell_type": "code",
   "execution_count": 302,
   "metadata": {},
   "outputs": [],
   "source": [
    "conn = psycopg2.connect(**db_credentials)\n",
    "cur = conn.cursor()"
   ]
  },
  {
   "cell_type": "code",
   "execution_count": 303,
   "metadata": {},
   "outputs": [
    {
     "data": {
      "text/plain": [
       "b\"INSERT INTO church (address_id, church_name) VALUES (100, 'kirche')\""
      ]
     },
     "execution_count": 303,
     "metadata": {},
     "output_type": "execute_result"
    }
   ],
   "source": [
    "sql_string_with_placeholders = \"INSERT INTO church (address_id, church_name) VALUES (%s, %s)\"\n",
    "cur.mogrify(sql_string_with_placeholders,(100, \"kirche\"))"
   ]
  },
  {
   "cell_type": "code",
   "execution_count": 304,
   "metadata": {},
   "outputs": [],
   "source": [
    "conn.commit()\n",
    "conn.close()"
   ]
  },
  {
   "cell_type": "markdown",
   "metadata": {},
   "source": [
    "Kirchen"
   ]
  },
  {
   "cell_type": "code",
   "execution_count": 305,
   "metadata": {},
   "outputs": [],
   "source": [
    "conn = psycopg2.connect(**db_credentials)\n",
    "cur = conn.cursor()"
   ]
  },
  {
   "cell_type": "code",
   "execution_count": 306,
   "metadata": {},
   "outputs": [],
   "source": [
    "city_id_array = np.zeros(0)\n",
    "\n",
    "for idx, row in kirchen_zuerich.iterrows():\n",
    "    #prepare input values\n",
    "    church_name = row['name'] #<class 'str'> x\n",
    "\n",
    "    address_street = row['addr:street'] #<class 'str'>\n",
    "    if(type(address_street) == float):\n",
    "        address_street = 'keine Adresse vorhanden!'\n",
    "\n",
    "    address_number = row['addr:housenumber'] #<class 'str'>\n",
    "    if(type(address_number) == float):\n",
    "        address_number = '-'\n",
    "\n",
    "    city_postcode = row['addr:postcode'] #<class 'str'>\n",
    "    if pd.isna(city_postcode) == True:\n",
    "        city_postcode = '-'\n",
    "    else:\n",
    "        city_postcode = int(city_postcode)\n",
    "        city_postcode = str(city_postcode)\n",
    "\n",
    "    city_name = row['addr:city'] #<class 'str'>\n",
    "    if(type(city_name) == float):\n",
    "        city_name = '-'\n",
    "\n",
    "    lon = row[\"@lon\"] #<class 'float'>\n",
    "\n",
    "    lat = row[\"@lat\"] #<class 'float'>\n",
    "\n",
    "    #EXECUTE sql_commands:\n",
    "\n",
    "    #city_table\n",
    "    sql_fill_city = \"INSERT INTO gta_p8.city (city_postcode, city_name) SELECT '\"+city_postcode+\"', '\"+city_name+\"' WHERE NOT EXISTS (select * from gta_p8.city where city_postcode='\"+city_postcode+\"');\"\n",
    "\n",
    "    cur.execute(sql_fill_city, (city_postcode, city_name))\n",
    "\n",
    "    #address_table_preparation\n",
    "    cur.execute(\"SELECT city_id FROM gta_p8.city WHERE city_postcode='\"+city_postcode+\"';\")\n",
    "    result = cur.fetchone()\n",
    "    city_id_array = np.append(city_id_array, result[0])\n",
    "\n",
    "\n",
    "\n"
   ]
  },
  {
   "cell_type": "code",
   "execution_count": 307,
   "metadata": {},
   "outputs": [],
   "source": [
    "conn.commit()\n",
    "conn.close()"
   ]
  },
  {
   "cell_type": "code",
   "execution_count": 308,
   "metadata": {},
   "outputs": [],
   "source": [
    "conn = psycopg2.connect(**db_credentials)\n",
    "cur = conn.cursor()"
   ]
  },
  {
   "cell_type": "code",
   "execution_count": 309,
   "metadata": {},
   "outputs": [],
   "source": [
    "for idx, row in kirchen_zuerich.iterrows():\n",
    "    #prepare input values\n",
    "    church_name = row['name'] #<class 'str'> x\n",
    "\n",
    "    address_street = row['addr:street'] #<class 'str'>\n",
    "    if(type(address_street) == float):\n",
    "        address_street = 'keine Adresse vorhanden!'\n",
    "\n",
    "    address_number = row['addr:housenumber'] #<class 'str'>\n",
    "    if(type(address_number) == float):\n",
    "        address_number = '-'\n",
    "\n",
    "    city_postcode = row['addr:postcode'] #<class 'str'>\n",
    "    if pd.isna(city_postcode) == True:\n",
    "        city_postcode = '-'\n",
    "    else:\n",
    "        city_postcode = int(city_postcode)\n",
    "        city_postcode = str(city_postcode)\n",
    "\n",
    "    city_name = row['addr:city'] #<class 'str'>\n",
    "    if(type(city_name) == float):\n",
    "        city_name = '-'\n",
    "\n",
    "    lon = row[\"@lon\"] #<class 'float'>\n",
    "\n",
    "    lat = row[\"@lat\"] #<class 'float'>\n",
    "\n",
    "    #EXECUTE sql_commands:\n",
    "\n",
    "    #address_table\n",
    " \n",
    "    city_id_fk = str(int(city_id_array[idx]))\n",
    "\n",
    "\n",
    "    sql_fill_address = \"INSERT INTO gta_p8.address (address_street, address_number, city_id) SELECT '\"+address_street+\"', '\"+address_number+\"', '\"+city_id_fk+\"';\"\n",
    "  \n",
    "    cur.execute(sql_fill_city, (address_street, address_number, city_id_fk))\n",
    "\n",
    "\n"
   ]
  },
  {
   "cell_type": "code",
   "execution_count": 310,
   "metadata": {},
   "outputs": [],
   "source": [
    "conn.commit()\n",
    "conn.close()"
   ]
  },
  {
   "cell_type": "code",
   "execution_count": 311,
   "metadata": {},
   "outputs": [],
   "source": [
    "conn = psycopg2.connect(**db_credentials)\n",
    "cur = conn.cursor()"
   ]
  },
  {
   "cell_type": "code",
   "execution_count": 312,
   "metadata": {},
   "outputs": [],
   "source": [
    "for idx, row in kirchen_zuerich.iterrows():\n",
    "    #prepare input values\n",
    "    church_name = row['name'] #<class 'str'> x\n",
    "\n",
    "    address_street = row['addr:street'] #<class 'str'>\n",
    "    if(type(address_street) == float):\n",
    "        address_street = 'keine Adresse vorhanden!'\n",
    "\n",
    "    address_number = row['addr:housenumber'] #<class 'str'>\n",
    "    if(type(address_number) == float):\n",
    "        address_number = '-'\n",
    "\n",
    "    city_postcode = row['addr:postcode'] #<class 'str'>\n",
    "    if pd.isna(city_postcode) == True:\n",
    "        city_postcode = '-'\n",
    "    else:\n",
    "        city_postcode = int(city_postcode)\n",
    "        city_postcode = str(city_postcode)\n",
    "\n",
    "    city_name = row['addr:city'] #<class 'str'>\n",
    "    if(type(city_name) == float):\n",
    "        city_name = '-'\n",
    "\n",
    "    lon = row[\"@lon\"] #<class 'float'>\n",
    "\n",
    "    lat = row[\"@lat\"] #<class 'float'>\n",
    "\n",
    "    #EXECUTE sql_commands:\n",
    "\n",
    "\n",
    "\n"
   ]
  },
  {
   "cell_type": "code",
   "execution_count": 313,
   "metadata": {},
   "outputs": [],
   "source": [
    "conn.commit()\n",
    "conn.close()"
   ]
  },
  {
   "cell_type": "markdown",
   "metadata": {},
   "source": [
    "## Restaurants"
   ]
  },
  {
   "cell_type": "code",
   "execution_count": 314,
   "metadata": {},
   "outputs": [],
   "source": [
    "for idx, row in restaurant_zurich.iterrows():\n",
    "    #prepare input values\n",
    "    restaurant_name = row['name'] #<class 'str'>\n",
    "\n",
    "    restaurant_website = row['website'] #<class 'str'>\n",
    "    if(type(restaurant_website) == float):\n",
    "        restaurant_website = 'keine Website vorhanden!'\n",
    "\n",
    "    restaurant_type = row['cuisine']\n",
    "    if(type(restaurant_type) == float):\n",
    "        restaurant_type = 'keine Kategorie!'\n",
    "\n",
    "    address_street = row['addr:street'] #<class 'str'>\n",
    "    if(type(address_street) == float):\n",
    "        address_street = 'keine Adresse vorhanden!'\n",
    "\n",
    "    address_number = row['addr:housenumber'] #<class 'str'>\n",
    "    if(type(address_number) == float):\n",
    "        address_number = '-'\n",
    "\n",
    "    city_postcode = row['addr:postcode'] #<class 'str'>\n",
    "    if pd.isna(city_postcode) == True:\n",
    "        city_postcode = '-'\n",
    "    else:\n",
    "        city_postcode = str(city_postcode)\n",
    "\n",
    "    city_name = row['addr:city'] #<class 'str'>\n",
    "    if(type(city_name) == float):\n",
    "        city_name = '-'   \n",
    "\n",
    "    lon = row[\"@lon\"] #<class 'float'>\n",
    "\n",
    "    lat = row[\"@lat\"] #<class 'float'>\n",
    "    "
   ]
  },
  {
   "cell_type": "markdown",
   "metadata": {},
   "source": []
  }
 ],
 "metadata": {
  "kernelspec": {
   "display_name": "gta23",
   "language": "python",
   "name": "python3"
  },
  "language_info": {
   "codemirror_mode": {
    "name": "ipython",
    "version": 3
   },
   "file_extension": ".py",
   "mimetype": "text/x-python",
   "name": "python",
   "nbconvert_exporter": "python",
   "pygments_lexer": "ipython3",
   "version": "3.9.7"
  }
 },
 "nbformat": 4,
 "nbformat_minor": 2
}
