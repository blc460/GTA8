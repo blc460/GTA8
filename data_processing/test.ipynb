{
 "cells": [
  {
   "cell_type": "code",
   "execution_count": 32,
   "metadata": {},
   "outputs": [],
   "source": [
    "import psycopg2\n",
    "from flask import Flask, jsonify, request, after_this_request\n",
    "from flask_cors import CORS\n",
    "from shapely.geometry import LineString\n",
    "from shapely.geometry import Point\n",
    "from shapely.ops import transform\n",
    "from shapely import ops\n",
    "from shapely import wkb\n",
    "import pyproj"
   ]
  },
  {
   "cell_type": "code",
   "execution_count": 34,
   "metadata": {},
   "outputs": [
    {
     "ename": "AttributeError",
     "evalue": "'tuple' object has no attribute 'distance'",
     "output_type": "error",
     "traceback": [
      "\u001b[0;31m---------------------------------------------------------------------------\u001b[0m",
      "\u001b[0;31mAttributeError\u001b[0m                            Traceback (most recent call last)",
      "\u001b[1;32m/Users/niklaseckert/Library/CloudStorage/OneDrive-ETHZurich/ETH/HS23/GTA/GTA8/data_processing/test.ipynb Zelle 2\u001b[0m line \u001b[0;36m4\n\u001b[1;32m     <a href='vscode-notebook-cell:/Users/niklaseckert/Library/CloudStorage/OneDrive-ETHZurich/ETH/HS23/GTA/GTA8/data_processing/test.ipynb#W2sZmlsZQ%3D%3D?line=44'>45</a>\u001b[0m \u001b[39m# Example usage\u001b[39;00m\n\u001b[1;32m     <a href='vscode-notebook-cell:/Users/niklaseckert/Library/CloudStorage/OneDrive-ETHZurich/ETH/HS23/GTA/GTA8/data_processing/test.ipynb#W2sZmlsZQ%3D%3D?line=45'>46</a>\u001b[0m linestring_id \u001b[39m=\u001b[39m \u001b[39m1\u001b[39m  \u001b[39m# Replace with the actual ID of the linestring you want to clean\u001b[39;00m\n\u001b[0;32m---> <a href='vscode-notebook-cell:/Users/niklaseckert/Library/CloudStorage/OneDrive-ETHZurich/ETH/HS23/GTA/GTA8/data_processing/test.ipynb#W2sZmlsZQ%3D%3D?line=46'>47</a>\u001b[0m clean_and_update_linestring()\n",
      "\u001b[1;32m/Users/niklaseckert/Library/CloudStorage/OneDrive-ETHZurich/ETH/HS23/GTA/GTA8/data_processing/test.ipynb Zelle 2\u001b[0m line \u001b[0;36m2\n\u001b[1;32m     <a href='vscode-notebook-cell:/Users/niklaseckert/Library/CloudStorage/OneDrive-ETHZurich/ETH/HS23/GTA/GTA8/data_processing/test.ipynb#W2sZmlsZQ%3D%3D?line=23'>24</a>\u001b[0m conn\u001b[39m.\u001b[39mclose()\n\u001b[1;32m     <a href='vscode-notebook-cell:/Users/niklaseckert/Library/CloudStorage/OneDrive-ETHZurich/ETH/HS23/GTA/GTA8/data_processing/test.ipynb#W2sZmlsZQ%3D%3D?line=25'>26</a>\u001b[0m \u001b[39m# Clean the linestring\u001b[39;00m\n\u001b[0;32m---> <a href='vscode-notebook-cell:/Users/niklaseckert/Library/CloudStorage/OneDrive-ETHZurich/ETH/HS23/GTA/GTA8/data_processing/test.ipynb#W2sZmlsZQ%3D%3D?line=26'>27</a>\u001b[0m cleaned_linestring \u001b[39m=\u001b[39m clean_linestring(original_linestring)\n\u001b[1;32m     <a href='vscode-notebook-cell:/Users/niklaseckert/Library/CloudStorage/OneDrive-ETHZurich/ETH/HS23/GTA/GTA8/data_processing/test.ipynb#W2sZmlsZQ%3D%3D?line=28'>29</a>\u001b[0m \u001b[39mprint\u001b[39m(cleaned_linestring)\n",
      "\u001b[1;32m/Users/niklaseckert/Library/CloudStorage/OneDrive-ETHZurich/ETH/HS23/GTA/GTA8/data_processing/test.ipynb Zelle 2\u001b[0m line \u001b[0;36m3\n\u001b[1;32m     <a href='vscode-notebook-cell:/Users/niklaseckert/Library/CloudStorage/OneDrive-ETHZurich/ETH/HS23/GTA/GTA8/data_processing/test.ipynb#W2sZmlsZQ%3D%3D?line=35'>36</a>\u001b[0m cleaned_coordinates \u001b[39m=\u001b[39m [linestring\u001b[39m.\u001b[39mcoords[\u001b[39m0\u001b[39m]]\n\u001b[1;32m     <a href='vscode-notebook-cell:/Users/niklaseckert/Library/CloudStorage/OneDrive-ETHZurich/ETH/HS23/GTA/GTA8/data_processing/test.ipynb#W2sZmlsZQ%3D%3D?line=36'>37</a>\u001b[0m \u001b[39mfor\u001b[39;00m i \u001b[39min\u001b[39;00m \u001b[39mrange\u001b[39m(\u001b[39m1\u001b[39m, \u001b[39mlen\u001b[39m(linestring\u001b[39m.\u001b[39mcoords) \u001b[39m-\u001b[39m \u001b[39m1\u001b[39m):\n\u001b[0;32m---> <a href='vscode-notebook-cell:/Users/niklaseckert/Library/CloudStorage/OneDrive-ETHZurich/ETH/HS23/GTA/GTA8/data_processing/test.ipynb#W2sZmlsZQ%3D%3D?line=37'>38</a>\u001b[0m     \u001b[39mif\u001b[39;00m linestring\u001b[39m.\u001b[39;49mcoords[i \u001b[39m-\u001b[39;49m \u001b[39m1\u001b[39;49m]\u001b[39m.\u001b[39;49mdistance(linestring\u001b[39m.\u001b[39mcoords[i]) \u001b[39m<\u001b[39m distance_threshold_degrees:\n\u001b[1;32m     <a href='vscode-notebook-cell:/Users/niklaseckert/Library/CloudStorage/OneDrive-ETHZurich/ETH/HS23/GTA/GTA8/data_processing/test.ipynb#W2sZmlsZQ%3D%3D?line=38'>39</a>\u001b[0m         cleaned_coordinates\u001b[39m.\u001b[39mappend(linestring\u001b[39m.\u001b[39mcoords[i])\n\u001b[1;32m     <a href='vscode-notebook-cell:/Users/niklaseckert/Library/CloudStorage/OneDrive-ETHZurich/ETH/HS23/GTA/GTA8/data_processing/test.ipynb#W2sZmlsZQ%3D%3D?line=40'>41</a>\u001b[0m \u001b[39m# Create a new LineString with the cleaned coordinates\u001b[39;00m\n",
      "\u001b[0;31mAttributeError\u001b[0m: 'tuple' object has no attribute 'distance'"
     ]
    }
   ],
   "source": [
    "def clean_and_update_linestring():\n",
    "    trip_id = str(46)\n",
    "    \n",
    "    #connect to db\n",
    "    db_credentials = {\"dbname\": 'gta',\n",
    "                  \"port\": 5432,\n",
    "                  \"user\": 'gta_p8',\n",
    "                  \"password\": 'r7sdkfdq',\n",
    "                  \"host\": 'ikgpgis.ethz.ch'}\n",
    "    conn = psycopg2.connect(**db_credentials)\n",
    "    cur = conn.cursor()\n",
    "\n",
    "    # Fetch the linestring from the database\n",
    "    sql_string = \"SELECT geometry FROM gta_p8.trip WHERE trip_id = \"+trip_id+\"\"\n",
    "    cur.execute(sql_string)\n",
    "    linestring_wkt = cur.fetchone()\n",
    "\n",
    "    # Convert the WKT string to a Shapely LineString\n",
    "    original_linestring = wkb.loads(bytes.fromhex(linestring_wkt[0]))\n",
    "\n",
    "    clean_linestring\n",
    "\n",
    "    conn.commit()\n",
    "    conn.close()\n",
    "\n",
    "    # Clean the linestring\n",
    "    cleaned_linestring = clean_linestring(original_linestring)\n",
    "\n",
    "    print(cleaned_linestring)\n",
    "\n",
    "def clean_linestring(linestring, distance_threshold_meters):\n",
    "    # Convert distance threshold to degrees (approximate conversion for Zurich, Switzerland)\n",
    "    distance_threshold_degrees = distance_threshold_meters / 111000\n",
    "\n",
    "    # Filter out points that are too far from their neighbors\n",
    "    cleaned_coordinates = [Point(linestring.coords[0])]\n",
    "    for i in range(1, len(linestring.coords) - 1):\n",
    "        point_prev = Point(linestring.coords[i - 1])\n",
    "        point_current = Point(linestring.coords[i])\n",
    "        point_next = Point(linestring.coords[i + 1])\n",
    "\n",
    "        if point_prev.distance(point_next) < distance_threshold_degrees:\n",
    "            cleaned_coordinates.append(point_current)\n",
    "\n",
    "    cleaned_coordinates.append(Point(linestring.coords[-1]))\n",
    "\n",
    "    # Create a new LineString with the cleaned coordinates\n",
    "    cleaned_linestring = LineString(cleaned_coordinates)\n",
    "    return cleaned_linestring\n",
    "\n",
    "# Example usage\n",
    "linestring_id = 1  # Replace with the actual ID of the linestring you want to clean\n",
    "clean_and_update_linestring()\n"
   ]
  },
  {
   "cell_type": "code",
   "execution_count": null,
   "metadata": {},
   "outputs": [],
   "source": []
  }
 ],
 "metadata": {
  "kernelspec": {
   "display_name": "gta23",
   "language": "python",
   "name": "python3"
  },
  "language_info": {
   "codemirror_mode": {
    "name": "ipython",
    "version": 3
   },
   "file_extension": ".py",
   "mimetype": "text/x-python",
   "name": "python",
   "nbconvert_exporter": "python",
   "pygments_lexer": "ipython3",
   "version": "3.9.7"
  }
 },
 "nbformat": 4,
 "nbformat_minor": 2
}
