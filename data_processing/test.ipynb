{
 "cells": [
  {
   "cell_type": "code",
   "execution_count": 3,
   "metadata": {},
   "outputs": [],
   "source": [
    "import psycopg2\n",
    "from flask import Flask, jsonify, request, after_this_request\n",
    "from flask_cors import CORS\n",
    "from shapely.geometry import LineString\n",
    "from shapely.geometry import Point\n",
    "from shapely.ops import transform\n",
    "from shapely import ops\n",
    "from shapely import wkb"
   ]
  },
  {
   "cell_type": "code",
   "execution_count": 4,
   "metadata": {},
   "outputs": [],
   "source": [
    "def clean_and_update_linestring():\n",
    "    trip_id = str(46)\n",
    "    \n",
    "    #connect to db\n",
    "    db_credentials = {\"dbname\": 'gta',\n",
    "                  \"port\": 5432,\n",
    "                  \"user\": 'gta_p8',\n",
    "                  \"password\": 'r7sdkfdq',\n",
    "                  \"host\": 'ikgpgis.ethz.ch'}\n",
    "    conn = psycopg2.connect(**db_credentials)\n",
    "    cur = conn.cursor()\n",
    "\n",
    "    # Fetch the linestring from the database\n",
    "    sql_string_0 = \"SELECT geometry FROM gta_p8.trip WHERE trip_id = \"+trip_id+\"\"\n",
    "    cur.execute(sql_string_0)\n",
    "    linestring_wkt = cur.fetchone()\n",
    "\n",
    "    # Convert the WKT string to a Shapely LineString\n",
    "    original_linestring = wkb.loads(bytes.fromhex(linestring_wkt[0]))\n",
    "\n",
    "    conn.commit()\n",
    "    conn.close()\n",
    "\n",
    "    # Clean the linestring\n",
    "    cleaned_linestring = clean_linestring(original_linestring)\n",
    "    wkb_data = bytes(cleaned_linestring.wkb)\n",
    "\n",
    "    #connect to db\n",
    "    conn = psycopg2.connect(**db_credentials)\n",
    "    cur = conn.cursor()\n",
    "\n",
    "    #update linestring\n",
    "    update_query = \"UPDATE gta_p8.trip SET geometry = ST_GeomFromWKB(%s) WHERE trip_id = %s\"\n",
    "    cur.execute(update_query, (psycopg2.Binary(wkb_data), trip_id))\n",
    "    \n",
    "    conn.commit()\n",
    "    conn.close()\n",
    "\n",
    "\n",
    "def clean_linestring(linestring, distance_threshold_meters=100):\n",
    "    # Convert distance threshold to degrees (approximate conversion for Zurich, Switzerland)\n",
    "    distance_threshold_degrees = distance_threshold_meters / 111000\n",
    "\n",
    "    # Filter out points that are too far from their neighbors\n",
    "    cleaned_coordinates = [Point(linestring.coords[0])]\n",
    "    for i in range(1, len(linestring.coords)):\n",
    "        point_prev = Point(linestring.coords[i - 1])\n",
    "        point_current = Point(linestring.coords[i])\n",
    "\n",
    "        if point_prev.distance(point_current) < distance_threshold_degrees:\n",
    "            cleaned_coordinates.append(point_current)\n",
    "\n",
    "    cleaned_coordinates.append(Point(linestring.coords[-1]))\n",
    "\n",
    "    # Create a new LineString with the cleaned coordinates\n",
    "    cleaned_linestring = LineString(cleaned_coordinates)\n",
    "    return cleaned_linestring\n",
    "\n",
    "# Example usage\n",
    "linestring_id = 1  # Replace with the actual ID of the linestring you want to clean\n",
    "clean_and_update_linestring()\n"
   ]
  },
  {
   "cell_type": "code",
   "execution_count": null,
   "metadata": {},
   "outputs": [],
   "source": []
  }
 ],
 "metadata": {
  "kernelspec": {
   "display_name": "gta23",
   "language": "python",
   "name": "python3"
  },
  "language_info": {
   "codemirror_mode": {
    "name": "ipython",
    "version": 3
   },
   "file_extension": ".py",
   "mimetype": "text/x-python",
   "name": "python",
   "nbconvert_exporter": "python",
   "pygments_lexer": "ipython3",
   "version": "3.9.7"
  }
 },
 "nbformat": 4,
 "nbformat_minor": 2
}
