{
 "cells": [
  {
   "cell_type": "code",
   "execution_count": 111,
   "metadata": {},
   "outputs": [],
   "source": [
    "import psycopg2\n",
    "from psycopg2.extensions import AsIs\n",
    "import psycopg2\n",
    "import pandas as pd\n",
    "import numpy as np\n",
    "import shapely\n",
    "from shapely import wkb\n",
    "from shapely.geometry import mapping, shape"
   ]
  },
  {
   "cell_type": "code",
   "execution_count": 112,
   "metadata": {},
   "outputs": [],
   "source": [
    "\n",
    "db_credentials = {\"dbname\": 'gta',\n",
    "                  \"port\": 5432,\n",
    "                  \"user\": 'gta_p8',\n",
    "                  \"password\": 'r7sdkfdq',\n",
    "                  \"host\": 'ikgpgis.ethz.ch'}"
   ]
  },
  {
   "cell_type": "code",
   "execution_count": 113,
   "metadata": {},
   "outputs": [],
   "source": [
    "#fiktiver input von flask\n",
    "trip_id = 10"
   ]
  },
  {
   "cell_type": "code",
   "execution_count": 114,
   "metadata": {},
   "outputs": [],
   "source": [
    "def get_linestring(trip_id, db_credentials):\n",
    "    trip_id = str(trip_id)\n",
    "    conn = psycopg2.connect(**db_credentials)\n",
    "    cur = conn.cursor()\n",
    "    sql_string = \"SELECT geometry FROM gta_p8.trip WHERE trip_id='\"+trip_id+\"';\"\n",
    "    cur.execute(sql_string)\n",
    "    wkb_hex = cur.fetchone()\n",
    "    conn.commit()\n",
    "    conn.close()\n",
    "    linestring = wkb.loads(bytes.fromhex(wkb_hex[0]))\n",
    "    return linestring\n"
   ]
  },
  {
   "cell_type": "code",
   "execution_count": 115,
   "metadata": {},
   "outputs": [],
   "source": [
    "def buffering_linestring(linestring, distance=15.0/1000):\n",
    "    return linestring.buffer(distance)"
   ]
  },
  {
   "cell_type": "code",
   "execution_count": 116,
   "metadata": {},
   "outputs": [],
   "source": [
    "def get_point_ids(buffer_polygon, db_credentials):\n",
    "    conn = psycopg2.connect(**db_credentials)\n",
    "    cur = conn.cursor()\n",
    "    sql_string = \"SELECT restaurant_id FROM gta_p8.restaurant WHERE ST_Contains(ST_GeomFromText('\"+str(buffer_polygon)+\"', 4326), geometry);\"\n",
    "    cur.execute(sql_string)\n",
    "    list = cur.fetchone()\n",
    "    return list\n"
   ]
  },
  {
   "cell_type": "code",
   "execution_count": null,
   "metadata": {},
   "outputs": [],
   "source": [
    "def get_point_ids(buffer_polygon, db_credentials):\n",
    "    conn = psycopg2.connect(**db_credentials)\n",
    "    cur = conn.cursor()\n",
    "    sql_string = \"SELECT restaurant_id FROM gta_p8.restaurant WHERE ST_Contains(gta_p8.restaurant.geometry, geometry);\"\n",
    "    cur.execute(sql_string)\n",
    "    list = cur.fetchone()\n",
    "    return list"
   ]
  },
  {
   "cell_type": "code",
   "execution_count": 117,
   "metadata": {},
   "outputs": [
    {
     "name": "stdout",
     "output_type": "stream",
     "text": [
      "POLYGON ((8.495291533294793 47.41719525516577, 8.496158419075943 47.41832277327327, 8.497111828779319 47.41944432707717, 8.498170579050965 47.42046702980025, 8.49932447354699 47.42138103225624, 8.500562399632615 47.42217753210184, 8.501872435402918 47.42284885860812, 8.50324196449729 47.42338854653385, 8.504657797601894 47.42379139838928, 8.506106299469957 47.42405353449082, 8.50757352023666 47.4241724303245, 8.509045329763953 47.42414694085847, 8.510507553721517 47.42397731157021, 8.511946110093309 47.42366517608249, 8.51334714479507 47.4232135404307, 8.514697165096742 47.42262675411305, 8.515983169564821 47.42191046820253, 8.51719277327328 47.42107158092406, 8.518314327077167 47.42011817122068, 8.519337029800251 47.41905942094903, 8.52025103225624 47.41790552645301, 8.521047532101839 47.41666760036738, 8.521718858608125 47.41535756459708, 8.522258546533854 47.41398803550271, 8.522661398389282 47.41257220239811, 8.522923534490817 47.41112370053004, 8.523042430324505 47.40965647976334, 8.523016940858472 47.40818467023605, 8.52284731157021 47.40672244627848, 8.522535176082494 47.40528388990669, 8.5220835404307 47.40388285520493, 8.521496754113045 47.40253283490326, 8.520780468202538 47.40124683043518, 8.519941580924058 47.40003722672672, 8.516881580924057 47.39605722672673, 8.515919189858145 47.39492611032546, 8.514849662573035 47.39389570639333, 8.513683483387432 47.3929761157322, 8.51365747658968 47.39295949492152, 8.513237534366814 47.39253590869026, 8.512095185491905 47.39159142914545, 8.510865198814662 47.39076430440493, 8.509505198814663 47.38994430440493, 8.508126945650966 47.38920832105086, 8.506679611034119 47.38861969911142, 8.506504127243481 47.38856884770984, 8.506439012031921 47.38852799318165, 8.505121411784925 47.38787163764794, 8.503745822050801 47.38734759005384, 8.502325490510664 47.38696089726415, 8.500874095733677 47.38671528334181, 8.499405615444955 47.38661311368318, 8.497934191912432 47.3866553722379, 8.496473995749087 47.38684165203301, 8.495039089442198 47.38717015909224, 8.493643291923901 47.38763772971303, 8.492300045487317 47.3882398609347, 8.491022286329923 47.38897075390443, 8.4898223199709 47.38982336972338, 8.488711702742251 47.39078949723513, 8.487701130495017 47.39185983210358, 8.48680033559237 47.39302406641886, 8.486017993181651 47.39427098796808, 8.485361637647944 47.39558858821508, 8.484837590053841 47.39696417794919, 8.484450897264146 47.39838450948933, 8.484205283341812 47.39983590426632, 8.484103113683174 47.40130438455505, 8.484145372237901 47.40277580808757, 8.484331652033008 47.40423600425091, 8.484660159092236 47.4056709105578, 8.485127729713028 47.40706670807609, 8.485729860934702 47.40840995451268, 8.486460753904437 47.40968771367007, 8.487310753904437 47.41101771367008, 8.488167491007898 47.4122229134355, 8.48913872817405 47.41333790370726, 8.490215027114624 47.41435184923319, 8.491385928572065 47.41525489669373, 8.492640053960507 47.41603827045452, 8.493965215940591 47.41669435784623, 8.495291533294793 47.41719525516577))\n"
     ]
    }
   ],
   "source": [
    "linestring = get_linestring(trip_id, db_credentials)\n",
    "buffer_polygon = buffering_linestring(linestring=linestring)\n",
    "print(buffer_polygon)\n",
    "point_id = get_point_ids(buffer_polygon, db_credentials)"
   ]
  },
  {
   "cell_type": "code",
   "execution_count": 118,
   "metadata": {},
   "outputs": [
    {
     "name": "stdout",
     "output_type": "stream",
     "text": [
      "(859,)\n"
     ]
    }
   ],
   "source": [
    "print(point_id)"
   ]
  },
  {
   "cell_type": "code",
   "execution_count": null,
   "metadata": {},
   "outputs": [],
   "source": [
    "#st_buffer in st_contains aufpassen mit geometry"
   ]
  },
  {
   "cell_type": "markdown",
   "metadata": {},
   "source": [
    "SELECT restaurant_id \n",
    "FROM gta_p8.restaurant as R\n",
    "WHERE ST_Contains((SELECT ST_Buffer(T.geometry,30) FROM gta_p8.trip as T), R.geometry)\n"
   ]
  }
 ],
 "metadata": {
  "kernelspec": {
   "display_name": "gta23",
   "language": "python",
   "name": "python3"
  },
  "language_info": {
   "codemirror_mode": {
    "name": "ipython",
    "version": 3
   },
   "file_extension": ".py",
   "mimetype": "text/x-python",
   "name": "python",
   "nbconvert_exporter": "python",
   "pygments_lexer": "ipython3",
   "version": "3.9.7"
  }
 },
 "nbformat": 4,
 "nbformat_minor": 2
}
